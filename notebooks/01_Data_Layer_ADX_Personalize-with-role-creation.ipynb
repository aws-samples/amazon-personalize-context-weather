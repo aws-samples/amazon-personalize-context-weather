{
 "cells": [
  {
   "cell_type": "markdown",
   "metadata": {},
   "source": [
    "# Getting recommendations using Amazon Personalization and AWS Data Exchange\n",
    "\n",
    "Recommended Time: 90 Min"
   ]
  },
  {
   "cell_type": "markdown",
   "metadata": {},
   "source": [
    "## Prerequisites\n",
    "\n",
    "To use this notebook you need to be suscribed to "
   ]
  },
  {
   "cell_type": "markdown",
   "metadata": {},
   "source": [
    "### Import Dependencies and Setup Boto3 Python Clients\n",
    "\n",
    "Throughout this workshop we will need access to some common libraries and clients for connecting to AWS services. We also have to retrieve Uid from a SageMaker notebook instance tag."
   ]
  },
  {
   "cell_type": "code",
   "execution_count": 1,
   "metadata": {},
   "outputs": [],
   "source": [
    "# Import Dependencies\n",
    "\n",
    "import boto3\n",
    "import json\n",
    "import pandas as pd\n",
    "import numpy as np\n",
    "import seaborn as sns\n",
    "import matplotlib.pyplot as plt\n",
    "import time\n",
    "import requests\n",
    "import csv\n",
    "import sys\n",
    "import botocore\n",
    "import uuid\n",
    "\n",
    "from datetime import datetime\n",
    "from datetime import date\n",
    "from packaging import version\n",
    "from random import randint\n",
    "from botocore.exceptions import ClientError\n",
    "\n",
    "\n",
    "%matplotlib inline\n",
    "\n",
    "# Setup Clients\n",
    "\n",
    "personalize = boto3.client('personalize')\n",
    "personalize_runtime = boto3.client('personalize-runtime')\n",
    "personalize_events = boto3.client('personalize-events')\n",
    "s3 = boto3.client('s3')\n",
    "\n",
    "with open('/opt/ml/metadata/resource-metadata.json') as f:\n",
    "  data = json.load(f)\n",
    "sagemaker = boto3.client('sagemaker')\n",
    "sagemakerResponce = sagemaker.list_tags(ResourceArn=data[\"ResourceArn\"])\n",
    "for tag in sagemakerResponce[\"Tags\"]:\n",
    "    if tag['Key'] == 'Uid':\n",
    "        Uid = tag['Value']\n",
    "        break"
   ]
  },
  {
   "cell_type": "markdown",
   "metadata": {},
   "source": [
    "### Implement some visualization functions for displaying information of the products in a dataframe\n",
    "\n",
    "Throughout this workshop we will need to search information of products several times, this function will help us to do it without repeating the same code."
   ]
  },
  {
   "cell_type": "code",
   "execution_count": 2,
   "metadata": {},
   "outputs": [],
   "source": [
    "def search_items_in_dataframe(item_list):\n",
    "    df = pd.DataFrame() \n",
    "    for x in range(len(item_list)):\n",
    "        temp = products_dataset_df.loc[products_dataset_df['ITEM_ID'] == int(item_list[x]['itemId'])]\n",
    "        df = df.append(temp, ignore_index=True)\n",
    "    pd.set_option('display.max_rows', 10)\n",
    "    return df\n"
   ]
  },
  {
   "cell_type": "markdown",
   "metadata": {},
   "source": [
    "### Configure Bucket and Data Output Location"
   ]
  },
  {
   "cell_type": "markdown",
   "metadata": {},
   "source": [
    "We will be configuring some variables that will store the location of our source data. Substitute the name of the bucket we will create later with your own. "
   ]
  },
  {
   "cell_type": "code",
   "execution_count": 3,
   "metadata": {},
   "outputs": [],
   "source": [
    "\n",
    "bucket = \"\"     # Use your own bucket\n",
    "items_filename = \"items.csv\"                # Do Not Change\n",
    "users_filename = \"users.csv\"                # Do Not Change\n",
    "interactions_filename = \"interactions.csv\"  # Do Not Change"
   ]
  },
  {
   "cell_type": "markdown",
   "metadata": {},
   "source": [
    "## Get, Prepare, and Upload User, Product, and Interaction Data\n",
    "\n",
    "First we need to create a bucket to store the datasets for Personalize to consume them. \n",
    "\n",
    "Download datasets.\n",
    "\n",
    "Let's get started."
   ]
  },
  {
   "cell_type": "code",
   "execution_count": null,
   "metadata": {},
   "outputs": [],
   "source": [
    "# Substitute the '/dataset/object-key' by the key of the file copied by ADX containing the weather dataset\n",
    "\n",
    "s3.download_file(bucket, '/dataset/object-key', 'weather_data.csv')"
   ]
  },
  {
   "cell_type": "markdown",
   "metadata": {},
   "source": [
    "#### Download and Explore and clean the Weather Dataset"
   ]
  },
  {
   "cell_type": "code",
   "execution_count": 4,
   "metadata": {},
   "outputs": [
    {
     "data": {
      "text/html": [
       "<div>\n",
       "<style scoped>\n",
       "    .dataframe tbody tr th:only-of-type {\n",
       "        vertical-align: middle;\n",
       "    }\n",
       "\n",
       "    .dataframe tbody tr th {\n",
       "        vertical-align: top;\n",
       "    }\n",
       "\n",
       "    .dataframe thead th {\n",
       "        text-align: right;\n",
       "    }\n",
       "</style>\n",
       "<table border=\"1\" class=\"dataframe\">\n",
       "  <thead>\n",
       "    <tr style=\"text-align: right;\">\n",
       "      <th></th>\n",
       "      <th>city</th>\n",
       "      <th>date</th>\n",
       "      <th>avgTemp</th>\n",
       "      <th>maxTemp</th>\n",
       "      <th>minTemp</th>\n",
       "      <th>prcp</th>\n",
       "    </tr>\n",
       "  </thead>\n",
       "  <tbody>\n",
       "    <tr>\n",
       "      <th>0</th>\n",
       "      <td>Atlanta</td>\n",
       "      <td>20180101</td>\n",
       "      <td>23.5</td>\n",
       "      <td>29</td>\n",
       "      <td>18</td>\n",
       "      <td>0.00</td>\n",
       "    </tr>\n",
       "    <tr>\n",
       "      <th>1</th>\n",
       "      <td>Boston</td>\n",
       "      <td>20180101</td>\n",
       "      <td>6.5</td>\n",
       "      <td>13</td>\n",
       "      <td>0</td>\n",
       "      <td>0.00</td>\n",
       "    </tr>\n",
       "    <tr>\n",
       "      <th>...</th>\n",
       "      <td>...</td>\n",
       "      <td>...</td>\n",
       "      <td>...</td>\n",
       "      <td>...</td>\n",
       "      <td>...</td>\n",
       "      <td>...</td>\n",
       "    </tr>\n",
       "    <tr>\n",
       "      <th>6088</th>\n",
       "      <td>New York City</td>\n",
       "      <td>20201011</td>\n",
       "      <td>63.5</td>\n",
       "      <td>69</td>\n",
       "      <td>58</td>\n",
       "      <td>0.01</td>\n",
       "    </tr>\n",
       "    <tr>\n",
       "      <th>6089</th>\n",
       "      <td>Seattle</td>\n",
       "      <td>20201011</td>\n",
       "      <td>54.5</td>\n",
       "      <td>59</td>\n",
       "      <td>50</td>\n",
       "      <td>0.61</td>\n",
       "    </tr>\n",
       "  </tbody>\n",
       "</table>\n",
       "<p>6090 rows × 6 columns</p>\n",
       "</div>"
      ],
      "text/plain": [
       "               city      date  avgTemp  maxTemp  minTemp  prcp\n",
       "0           Atlanta  20180101     23.5       29       18  0.00\n",
       "1            Boston  20180101      6.5       13        0  0.00\n",
       "...             ...       ...      ...      ...      ...   ...\n",
       "6088  New York City  20201011     63.5       69       58  0.01\n",
       "6089        Seattle  20201011     54.5       59       50  0.61\n",
       "\n",
       "[6090 rows x 6 columns]"
      ]
     },
     "execution_count": 4,
     "metadata": {},
     "output_type": "execute_result"
    }
   ],
   "source": [
    "weather_df = pd.read_csv('weather_data.csv')\n",
    "pd.set_option('display.max_rows', 5)\n",
    "weather_df"
   ]
  },
  {
   "cell_type": "code",
   "execution_count": 5,
   "metadata": {},
   "outputs": [
    {
     "data": {
      "text/html": [
       "<div>\n",
       "<style scoped>\n",
       "    .dataframe tbody tr th:only-of-type {\n",
       "        vertical-align: middle;\n",
       "    }\n",
       "\n",
       "    .dataframe tbody tr th {\n",
       "        vertical-align: top;\n",
       "    }\n",
       "\n",
       "    .dataframe thead th {\n",
       "        text-align: right;\n",
       "    }\n",
       "</style>\n",
       "<table border=\"1\" class=\"dataframe\">\n",
       "  <thead>\n",
       "    <tr style=\"text-align: right;\">\n",
       "      <th></th>\n",
       "      <th>city</th>\n",
       "      <th>date</th>\n",
       "      <th>avgTemp</th>\n",
       "      <th>maxTemp</th>\n",
       "      <th>minTemp</th>\n",
       "      <th>prcp</th>\n",
       "    </tr>\n",
       "  </thead>\n",
       "  <tbody>\n",
       "    <tr>\n",
       "      <th>0</th>\n",
       "      <td>Atlanta</td>\n",
       "      <td>20180101</td>\n",
       "      <td>23.5</td>\n",
       "      <td>29</td>\n",
       "      <td>18</td>\n",
       "      <td>0.00</td>\n",
       "    </tr>\n",
       "    <tr>\n",
       "      <th>2</th>\n",
       "      <td>Atlanta</td>\n",
       "      <td>20180102</td>\n",
       "      <td>24.5</td>\n",
       "      <td>36</td>\n",
       "      <td>13</td>\n",
       "      <td>0.00</td>\n",
       "    </tr>\n",
       "    <tr>\n",
       "      <th>...</th>\n",
       "      <td>...</td>\n",
       "      <td>...</td>\n",
       "      <td>...</td>\n",
       "      <td>...</td>\n",
       "      <td>...</td>\n",
       "      <td>...</td>\n",
       "    </tr>\n",
       "    <tr>\n",
       "      <th>2026</th>\n",
       "      <td>Atlanta</td>\n",
       "      <td>20201010</td>\n",
       "      <td>71.0</td>\n",
       "      <td>77</td>\n",
       "      <td>65</td>\n",
       "      <td>4.55</td>\n",
       "    </tr>\n",
       "    <tr>\n",
       "      <th>2028</th>\n",
       "      <td>Atlanta</td>\n",
       "      <td>20201011</td>\n",
       "      <td>72.5</td>\n",
       "      <td>75</td>\n",
       "      <td>70</td>\n",
       "      <td>0.05</td>\n",
       "    </tr>\n",
       "  </tbody>\n",
       "</table>\n",
       "<p>1015 rows × 6 columns</p>\n",
       "</div>"
      ],
      "text/plain": [
       "         city      date  avgTemp  maxTemp  minTemp  prcp\n",
       "0     Atlanta  20180101     23.5       29       18  0.00\n",
       "2     Atlanta  20180102     24.5       36       13  0.00\n",
       "...       ...       ...      ...      ...      ...   ...\n",
       "2026  Atlanta  20201010     71.0       77       65  4.55\n",
       "2028  Atlanta  20201011     72.5       75       70  0.05\n",
       "\n",
       "[1015 rows x 6 columns]"
      ]
     },
     "execution_count": 5,
     "metadata": {},
     "output_type": "execute_result"
    }
   ],
   "source": [
    "#Create a new DF with all the values related to Atlanta \n",
    "weather_df= weather_df[weather_df.city == 'Atlanta']\n",
    "weather_df"
   ]
  },
  {
   "cell_type": "code",
   "execution_count": 6,
   "metadata": {},
   "outputs": [],
   "source": [
    "#Helper function to find the temperature in weather dataset\n",
    "\n",
    "def find_weather_data_by_timestamp(timestamp):\n",
    "    date_ds = str(date.fromtimestamp(timestamp)).replace('-', '')\n",
    "    data = weather_df.loc[weather_df['date'] == int(date_ds)]\n",
    "    daily_temp = float (data['avgTemp'])\n",
    "    daily_temp = int ((daily_temp - 32) * 5.0/9.0)\n",
    "    \n",
    "    if daily_temp < 5:\n",
    "        return 'very cold'\n",
    "    elif daily_temp >=5 and daily_temp < 10:\n",
    "        return 'cold'\n",
    "    elif daily_temp >=10 and daily_temp < 15:\n",
    "        return 'slightly cold'\n",
    "    elif daily_temp >= 15 and daily_temp < 21:\n",
    "        return 'lukewarm'\n",
    "    elif daily_temp >= 21 and daily_temp < 28:\n",
    "        return 'hot'\n",
    "    else:\n",
    "        return 'very hot'\n",
    "    return daily_temp\n"
   ]
  },
  {
   "cell_type": "code",
   "execution_count": 7,
   "metadata": {},
   "outputs": [
    {
     "data": {
      "text/plain": [
       "'lukewarm'"
      ]
     },
     "execution_count": 7,
     "metadata": {},
     "output_type": "execute_result"
    }
   ],
   "source": [
    "#test a sample timestamp\n",
    "find_weather_data_by_timestamp(1587846700)"
   ]
  },
  {
   "cell_type": "markdown",
   "metadata": {},
   "source": [
    "#### Download and Explore and clean the Products Dataset"
   ]
  },
  {
   "cell_type": "code",
   "execution_count": 8,
   "metadata": {},
   "outputs": [
    {
     "data": {
      "text/html": [
       "<div>\n",
       "<style scoped>\n",
       "    .dataframe tbody tr th:only-of-type {\n",
       "        vertical-align: middle;\n",
       "    }\n",
       "\n",
       "    .dataframe tbody tr th {\n",
       "        vertical-align: top;\n",
       "    }\n",
       "\n",
       "    .dataframe thead th {\n",
       "        text-align: right;\n",
       "    }\n",
       "</style>\n",
       "<table border=\"1\" class=\"dataframe\">\n",
       "  <thead>\n",
       "    <tr style=\"text-align: right;\">\n",
       "      <th></th>\n",
       "      <th>id</th>\n",
       "      <th>sk</th>\n",
       "      <th>name</th>\n",
       "      <th>category</th>\n",
       "      <th>type</th>\n",
       "      <th>size</th>\n",
       "      <th>price</th>\n",
       "      <th>featured</th>\n",
       "      <th>gender_affinity</th>\n",
       "      <th>sugar</th>\n",
       "    </tr>\n",
       "  </thead>\n",
       "  <tbody>\n",
       "    <tr>\n",
       "      <th>0</th>\n",
       "      <td>1</td>\n",
       "      <td>NaN</td>\n",
       "      <td>Amber Lager</td>\n",
       "      <td>beers</td>\n",
       "      <td>beer</td>\n",
       "      <td>4x355</td>\n",
       "      <td>4.99</td>\n",
       "      <td>True</td>\n",
       "      <td>NaN</td>\n",
       "      <td>REGULAR</td>\n",
       "    </tr>\n",
       "    <tr>\n",
       "      <th>1</th>\n",
       "      <td>2</td>\n",
       "      <td>NaN</td>\n",
       "      <td>Cream Stout</td>\n",
       "      <td>beers</td>\n",
       "      <td>beer</td>\n",
       "      <td>4x330</td>\n",
       "      <td>3.99</td>\n",
       "      <td>True</td>\n",
       "      <td>F</td>\n",
       "      <td>REGULAR</td>\n",
       "    </tr>\n",
       "    <tr>\n",
       "      <th>...</th>\n",
       "      <td>...</td>\n",
       "      <td>...</td>\n",
       "      <td>...</td>\n",
       "      <td>...</td>\n",
       "      <td>...</td>\n",
       "      <td>...</td>\n",
       "      <td>...</td>\n",
       "      <td>...</td>\n",
       "      <td>...</td>\n",
       "      <td>...</td>\n",
       "    </tr>\n",
       "    <tr>\n",
       "      <th>54</th>\n",
       "      <td>55</td>\n",
       "      <td>NaN</td>\n",
       "      <td>Peach Nectar</td>\n",
       "      <td>juices</td>\n",
       "      <td>nectar</td>\n",
       "      <td>6x200</td>\n",
       "      <td>1.49</td>\n",
       "      <td>NaN</td>\n",
       "      <td>M</td>\n",
       "      <td>LOW</td>\n",
       "    </tr>\n",
       "    <tr>\n",
       "      <th>55</th>\n",
       "      <td>56</td>\n",
       "      <td>NaN</td>\n",
       "      <td>Coconut Water</td>\n",
       "      <td>other</td>\n",
       "      <td>coconut water</td>\n",
       "      <td>1x250</td>\n",
       "      <td>1.69</td>\n",
       "      <td>NaN</td>\n",
       "      <td>NaN</td>\n",
       "      <td>0%</td>\n",
       "    </tr>\n",
       "  </tbody>\n",
       "</table>\n",
       "<p>56 rows × 10 columns</p>\n",
       "</div>"
      ],
      "text/plain": [
       "    id  sk           name category           type   size  price featured  \\\n",
       "0    1 NaN    Amber Lager    beers           beer  4x355   4.99     True   \n",
       "1    2 NaN    Cream Stout    beers           beer  4x330   3.99     True   \n",
       "..  ..  ..            ...      ...            ...    ...    ...      ...   \n",
       "54  55 NaN   Peach Nectar   juices         nectar  6x200   1.49      NaN   \n",
       "55  56 NaN  Coconut Water    other  coconut water  1x250   1.69      NaN   \n",
       "\n",
       "   gender_affinity    sugar  \n",
       "0              NaN  REGULAR  \n",
       "1                F  REGULAR  \n",
       "..             ...      ...  \n",
       "54               M      LOW  \n",
       "55             NaN       0%  \n",
       "\n",
       "[56 rows x 10 columns]"
      ]
     },
     "execution_count": 8,
     "metadata": {},
     "output_type": "execute_result"
    }
   ],
   "source": [
    "products_df = pd.read_csv('./items-origin.csv')\n",
    "pd.set_option('display.max_rows', 5)\n",
    "products_df\n"
   ]
  },
  {
   "cell_type": "markdown",
   "metadata": {},
   "source": [
    "### Clean the product dataset and drop columms we don't need.\n"
   ]
  },
  {
   "cell_type": "markdown",
   "metadata": {},
   "source": [
    "#### Prepare products Data\n",
    "\n",
    "When training models in Amazon Personalize, we can provide meta data about our items. For this workshop we will add each product's category and style to the item dataset. The product's unique identifier is required. Then we will rename the columns in our dataset to match our schema (defined later) and those expected by Personalize. Finally, we will save our dataset as a CSV and copy it to our S3 bucket."
   ]
  },
  {
   "cell_type": "code",
   "execution_count": 9,
   "metadata": {},
   "outputs": [],
   "source": [
    "products_dataset_df = products_df[['id','category','type', 'size']]\n"
   ]
  },
  {
   "cell_type": "code",
   "execution_count": 10,
   "metadata": {},
   "outputs": [
    {
     "data": {
      "text/plain": [
       "array(['beers', 'sparkling', 'waters', 'juices', 'isotonic', 'other',\n",
       "       'spirits', 'energy'], dtype=object)"
      ]
     },
     "execution_count": 10,
     "metadata": {},
     "output_type": "execute_result"
    }
   ],
   "source": [
    "products_dataset_df['category'].unique()"
   ]
  },
  {
   "cell_type": "code",
   "execution_count": 11,
   "metadata": {},
   "outputs": [],
   "source": [
    "products_dataset_df = products_dataset_df.rename(columns = {'id':'ITEM_ID','category':'CATEGORY','type':'TYPE', 'size':'SIZE'}) \n"
   ]
  },
  {
   "cell_type": "code",
   "execution_count": 12,
   "metadata": {},
   "outputs": [
    {
     "data": {
      "text/html": [
       "<div>\n",
       "<style scoped>\n",
       "    .dataframe tbody tr th:only-of-type {\n",
       "        vertical-align: middle;\n",
       "    }\n",
       "\n",
       "    .dataframe tbody tr th {\n",
       "        vertical-align: top;\n",
       "    }\n",
       "\n",
       "    .dataframe thead th {\n",
       "        text-align: right;\n",
       "    }\n",
       "</style>\n",
       "<table border=\"1\" class=\"dataframe\">\n",
       "  <thead>\n",
       "    <tr style=\"text-align: right;\">\n",
       "      <th></th>\n",
       "      <th>ITEM_ID</th>\n",
       "      <th>CATEGORY</th>\n",
       "      <th>TYPE</th>\n",
       "      <th>SIZE</th>\n",
       "    </tr>\n",
       "  </thead>\n",
       "  <tbody>\n",
       "    <tr>\n",
       "      <th>0</th>\n",
       "      <td>1</td>\n",
       "      <td>beers</td>\n",
       "      <td>beer</td>\n",
       "      <td>4x355</td>\n",
       "    </tr>\n",
       "    <tr>\n",
       "      <th>1</th>\n",
       "      <td>2</td>\n",
       "      <td>beers</td>\n",
       "      <td>beer</td>\n",
       "      <td>4x330</td>\n",
       "    </tr>\n",
       "    <tr>\n",
       "      <th>...</th>\n",
       "      <td>...</td>\n",
       "      <td>...</td>\n",
       "      <td>...</td>\n",
       "      <td>...</td>\n",
       "    </tr>\n",
       "    <tr>\n",
       "      <th>54</th>\n",
       "      <td>55</td>\n",
       "      <td>juices</td>\n",
       "      <td>nectar</td>\n",
       "      <td>6x200</td>\n",
       "    </tr>\n",
       "    <tr>\n",
       "      <th>55</th>\n",
       "      <td>56</td>\n",
       "      <td>other</td>\n",
       "      <td>coconut water</td>\n",
       "      <td>1x250</td>\n",
       "    </tr>\n",
       "  </tbody>\n",
       "</table>\n",
       "<p>56 rows × 4 columns</p>\n",
       "</div>"
      ],
      "text/plain": [
       "    ITEM_ID CATEGORY           TYPE   SIZE\n",
       "0         1    beers           beer  4x355\n",
       "1         2    beers           beer  4x330\n",
       "..      ...      ...            ...    ...\n",
       "54       55   juices         nectar  6x200\n",
       "55       56    other  coconut water  1x250\n",
       "\n",
       "[56 rows x 4 columns]"
      ]
     },
     "execution_count": 12,
     "metadata": {},
     "output_type": "execute_result"
    }
   ],
   "source": [
    "pd.set_option('display.max_rows', 5)\n",
    "products_dataset_df"
   ]
  },
  {
   "cell_type": "code",
   "execution_count": 13,
   "metadata": {},
   "outputs": [],
   "source": [
    "products_dataset_df.to_csv(items_filename, index=False)"
   ]
  },
  {
   "cell_type": "markdown",
   "metadata": {},
   "source": [
    "#### Download and Explore the Users Dataset"
   ]
  },
  {
   "cell_type": "code",
   "execution_count": 14,
   "metadata": {},
   "outputs": [
    {
     "data": {
      "text/html": [
       "<div>\n",
       "<style scoped>\n",
       "    .dataframe tbody tr th:only-of-type {\n",
       "        vertical-align: middle;\n",
       "    }\n",
       "\n",
       "    .dataframe tbody tr th {\n",
       "        vertical-align: top;\n",
       "    }\n",
       "\n",
       "    .dataframe thead th {\n",
       "        text-align: right;\n",
       "    }\n",
       "</style>\n",
       "<table border=\"1\" class=\"dataframe\">\n",
       "  <thead>\n",
       "    <tr style=\"text-align: right;\">\n",
       "      <th></th>\n",
       "      <th>id</th>\n",
       "      <th>username</th>\n",
       "      <th>email</th>\n",
       "      <th>first_name</th>\n",
       "      <th>last_name</th>\n",
       "      <th>addresses</th>\n",
       "      <th>age</th>\n",
       "      <th>gender</th>\n",
       "      <th>persona</th>\n",
       "    </tr>\n",
       "  </thead>\n",
       "  <tbody>\n",
       "    <tr>\n",
       "      <th>0</th>\n",
       "      <td>17</td>\n",
       "      <td>user17</td>\n",
       "      <td>annette.baker@example.com</td>\n",
       "      <td>Annette</td>\n",
       "      <td>Baker</td>\n",
       "      <td>[{'first_name': 'Annette', 'last_name': 'Baker...</td>\n",
       "      <td>18</td>\n",
       "      <td>F</td>\n",
       "      <td>sparkling_waters_other</td>\n",
       "    </tr>\n",
       "    <tr>\n",
       "      <th>1</th>\n",
       "      <td>63</td>\n",
       "      <td>user63</td>\n",
       "      <td>cheryl.duncan@example.com</td>\n",
       "      <td>Cheryl</td>\n",
       "      <td>Duncan</td>\n",
       "      <td>[{'first_name': 'Cheryl', 'last_name': 'Duncan...</td>\n",
       "      <td>18</td>\n",
       "      <td>F</td>\n",
       "      <td>waters_juices_other</td>\n",
       "    </tr>\n",
       "    <tr>\n",
       "      <th>...</th>\n",
       "      <td>...</td>\n",
       "      <td>...</td>\n",
       "      <td>...</td>\n",
       "      <td>...</td>\n",
       "      <td>...</td>\n",
       "      <td>...</td>\n",
       "      <td>...</td>\n",
       "      <td>...</td>\n",
       "      <td>...</td>\n",
       "    </tr>\n",
       "    <tr>\n",
       "      <th>5998</th>\n",
       "      <td>203</td>\n",
       "      <td>user203</td>\n",
       "      <td>ryan.barnes@example.com</td>\n",
       "      <td>Ryan</td>\n",
       "      <td>Barnes</td>\n",
       "      <td>[{'first_name': 'Ryan', 'last_name': 'Barnes',...</td>\n",
       "      <td>81</td>\n",
       "      <td>M</td>\n",
       "      <td>waters_juices_other</td>\n",
       "    </tr>\n",
       "    <tr>\n",
       "      <th>5999</th>\n",
       "      <td>4521</td>\n",
       "      <td>user4521</td>\n",
       "      <td>paul.nelson@example.com</td>\n",
       "      <td>Paul</td>\n",
       "      <td>Nelson</td>\n",
       "      <td>[{'first_name': 'Paul', 'last_name': 'Nelson',...</td>\n",
       "      <td>81</td>\n",
       "      <td>M</td>\n",
       "      <td>juices_waters_sparkling</td>\n",
       "    </tr>\n",
       "  </tbody>\n",
       "</table>\n",
       "<p>6000 rows × 9 columns</p>\n",
       "</div>"
      ],
      "text/plain": [
       "        id  username                      email first_name last_name  \\\n",
       "0       17    user17  annette.baker@example.com    Annette     Baker   \n",
       "1       63    user63  cheryl.duncan@example.com     Cheryl    Duncan   \n",
       "...    ...       ...                        ...        ...       ...   \n",
       "5998   203   user203    ryan.barnes@example.com       Ryan    Barnes   \n",
       "5999  4521  user4521    paul.nelson@example.com       Paul    Nelson   \n",
       "\n",
       "                                              addresses  age gender  \\\n",
       "0     [{'first_name': 'Annette', 'last_name': 'Baker...   18      F   \n",
       "1     [{'first_name': 'Cheryl', 'last_name': 'Duncan...   18      F   \n",
       "...                                                 ...  ...    ...   \n",
       "5998  [{'first_name': 'Ryan', 'last_name': 'Barnes',...   81      M   \n",
       "5999  [{'first_name': 'Paul', 'last_name': 'Nelson',...   81      M   \n",
       "\n",
       "                      persona  \n",
       "0      sparkling_waters_other  \n",
       "1         waters_juices_other  \n",
       "...                       ...  \n",
       "5998      waters_juices_other  \n",
       "5999  juices_waters_sparkling  \n",
       "\n",
       "[6000 rows x 9 columns]"
      ]
     },
     "execution_count": 14,
     "metadata": {},
     "output_type": "execute_result"
    }
   ],
   "source": [
    "users_df = pd.read_csv('./users-origin.csv')\n",
    "pd.set_option('display.max_rows', 5)\n",
    "users_df"
   ]
  },
  {
   "cell_type": "markdown",
   "metadata": {},
   "source": [
    "#### Prepare products Data\n",
    "\n",
    "Similar to the items dataset we created above, we can provide metadata on our users when training models in Amazon Personalize. For this workshop we will include each user's id and persona. As before, we will name the columns to match our schema, save the data as a CSV, and upload to our S3 bucket."
   ]
  },
  {
   "cell_type": "code",
   "execution_count": 15,
   "metadata": {},
   "outputs": [],
   "source": [
    "users_dataset_df = users_df[['id','persona']]\n",
    "users_dataset_df = users_dataset_df.rename(columns = {'id':'USER_ID','persona':'PERSONA'}) \n",
    "users_dataset_df.head(5)\n",
    "\n",
    "users_dataset_df.to_csv(users_filename, index=False)"
   ]
  },
  {
   "cell_type": "code",
   "execution_count": 16,
   "metadata": {},
   "outputs": [
    {
     "data": {
      "text/html": [
       "<div>\n",
       "<style scoped>\n",
       "    .dataframe tbody tr th:only-of-type {\n",
       "        vertical-align: middle;\n",
       "    }\n",
       "\n",
       "    .dataframe tbody tr th {\n",
       "        vertical-align: top;\n",
       "    }\n",
       "\n",
       "    .dataframe thead th {\n",
       "        text-align: right;\n",
       "    }\n",
       "</style>\n",
       "<table border=\"1\" class=\"dataframe\">\n",
       "  <thead>\n",
       "    <tr style=\"text-align: right;\">\n",
       "      <th></th>\n",
       "      <th>USER_ID</th>\n",
       "      <th>PERSONA</th>\n",
       "    </tr>\n",
       "  </thead>\n",
       "  <tbody>\n",
       "    <tr>\n",
       "      <th>0</th>\n",
       "      <td>17</td>\n",
       "      <td>sparkling_waters_other</td>\n",
       "    </tr>\n",
       "    <tr>\n",
       "      <th>1</th>\n",
       "      <td>63</td>\n",
       "      <td>waters_juices_other</td>\n",
       "    </tr>\n",
       "    <tr>\n",
       "      <th>2</th>\n",
       "      <td>74</td>\n",
       "      <td>isotonic_spirits_waters</td>\n",
       "    </tr>\n",
       "    <tr>\n",
       "      <th>3</th>\n",
       "      <td>88</td>\n",
       "      <td>spirits_beers_sparkling</td>\n",
       "    </tr>\n",
       "    <tr>\n",
       "      <th>4</th>\n",
       "      <td>144</td>\n",
       "      <td>waters_juices_other</td>\n",
       "    </tr>\n",
       "  </tbody>\n",
       "</table>\n",
       "</div>"
      ],
      "text/plain": [
       "   USER_ID                  PERSONA\n",
       "0       17   sparkling_waters_other\n",
       "1       63      waters_juices_other\n",
       "2       74  isotonic_spirits_waters\n",
       "3       88  spirits_beers_sparkling\n",
       "4      144      waters_juices_other"
      ]
     },
     "execution_count": 16,
     "metadata": {},
     "output_type": "execute_result"
    }
   ],
   "source": [
    "users_dataset_df.head(5)"
   ]
  },
  {
   "cell_type": "code",
   "execution_count": null,
   "metadata": {},
   "outputs": [],
   "source": [
    "products_dataset_df.info()"
   ]
  },
  {
   "cell_type": "markdown",
   "metadata": {},
   "source": [
    "### Create User-Items Interactions Dataset\n",
    "\n",
    "To mimic user behavior, we will be generating a new dataset that represents user interactions with items. To make the interactions more realistic, we will use a predefined shopper persona for each user to generate event types for products matching that persona. This persona is composed by 3 categories, separated by the symbol \"_\". \n",
    "The upsampling process will create events for viewing products, add products to a cart, checking out, and completing orders."
   ]
  },
  {
   "cell_type": "code",
   "execution_count": 17,
   "metadata": {},
   "outputs": [
    {
     "name": "stdout",
     "output_type": "stream",
     "text": [
      "Minimum interactions to generate: 2000000\n",
      "Days back: 365\n",
      "Starting timestamp: 1529918873 (2018-06-25 09:27:53)\n",
      "Seconds increment: 15\n",
      "Generating interactions... (this may take a few minutes)\n",
      "Done\n",
      "Total interactions: 2000001\n",
      "Total product viewed: 1724140\n",
      "Total product added: 137931\n",
      "Total cart viewed: 86207\n",
      "Total checkout started: 34482\n",
      "Total order completed: 17241\n",
      "CPU times: user 45min 23s, sys: 1.44 s, total: 45min 24s\n",
      "Wall time: 45min 26s\n"
     ]
    }
   ],
   "source": [
    "%%time\n",
    "\n",
    "# Minimum number of interactions to generate\n",
    "min_interactions = 2000000\n",
    "\n",
    "# Percentages of each event type to generate\n",
    "product_added_percent = .08\n",
    "cart_viewed_percent = .05\n",
    "checkout_started_percent = .02\n",
    "order_completed_percent = .01\n",
    "\n",
    "# Count of interactions generated for each event type\n",
    "product_viewed_count = 0\n",
    "product_added_count = 0\n",
    "cart_viewed_count = 0\n",
    "checkout_started_count = 0\n",
    "order_completed_count = 0\n",
    "\n",
    "# How many days in the past (from initial date) to start generating interactions\n",
    "days_back = 365\n",
    "\n",
    "#selecting a start time between 2020/02/23 and 2020/10/22 to match the weather data from the sample\n",
    "date_time_obj = datetime.strptime('2019-06-25 09:27:53', '%Y-%m-%d %H:%M:%S')\n",
    "start_time = int(datetime.timestamp(date_time_obj))\n",
    "#start_time = int(time.time())\n",
    "\n",
    "\n",
    "next_timestamp = start_time - (days_back * 24 * 60 * 60)\n",
    "seconds_increment = int((start_time - next_timestamp) / min_interactions)\n",
    "next_update = start_time + 60\n",
    "\n",
    "assert seconds_increment > 0, \"Increase days_back or reduce min_interactions\"\n",
    "\n",
    "print('Minimum interactions to generate: {}'.format(min_interactions))\n",
    "print('Days back: {}'.format(days_back))\n",
    "print('Starting timestamp: {} ({})'.format(next_timestamp, time.strftime('%Y-%m-%d %H:%M:%S', time.localtime(next_timestamp))))\n",
    "print('Seconds increment: {}'.format(seconds_increment))\n",
    "\n",
    "print(\"Generating interactions... (this may take a few minutes)\")\n",
    "interactions = 0\n",
    "\n",
    "subsets_cache = {}\n",
    "\n",
    "with open(interactions_filename, 'w') as outfile:\n",
    "    f = csv.writer(outfile)\n",
    "    f.writerow([\"ITEM_ID\", \"USER_ID\", \"EVENT_TYPE\", \"TIMESTAMP\", \"DAILY_TEMPERATURE\"])\n",
    "\n",
    "    while interactions < min_interactions:\n",
    "        #if (time.time() > next_update):\n",
    "         #   rate = interactions / (time.time() - start_time)\n",
    "          #  to_go = (min_interactions - interactions) / rate\n",
    "           # print('Generated {} interactions so far ({:0.2f} seconds to go)'.format(interactions, to_go))\n",
    "            #next_update += 60\n",
    "\n",
    "        # Pick a random user\n",
    "        user = users_df.sample().iloc[0]\n",
    "\n",
    "        # Determine category affinity from user's persona\n",
    "        persona = user['persona']\n",
    "        preferred_categories = persona.split('_')       \n",
    "\n",
    "        # Select category based on weighted preference of category order.\n",
    "        category = np.random.choice(preferred_categories, 1, p=[0.6, 0.25, 0.15])[0]\n",
    "        gender = user['gender']\n",
    "\n",
    "        # Check if subset data frame is already cached for category & gender\n",
    "        prods_subset_df = subsets_cache.get(category + gender)\n",
    "                \n",
    "        if prods_subset_df is None:\n",
    "            # Select products from selected category without gender affinity or that match user's gender\n",
    "            prods_subset_df = products_df.loc[(products_df['category'] == category)]\n",
    "            # Update cache\n",
    "            subsets_cache[category + gender] = prods_subset_df\n",
    "\n",
    "        # Pick a random product from gender filtered subset\n",
    "        product = prods_subset_df.sample().iloc[0]\n",
    "\n",
    "        this_timestamp = next_timestamp + randint(0, seconds_increment)\n",
    "        daily_temp = find_weather_data_by_timestamp(this_timestamp)\n",
    "        f.writerow([product['id'],\n",
    "                    user['id'], \n",
    "                    'ProductViewed',\n",
    "                    this_timestamp,\n",
    "                    daily_temp])\n",
    "\n",
    "        next_timestamp += seconds_increment\n",
    "        product_viewed_count += 1\n",
    "        interactions += 1\n",
    "\n",
    "        if product_added_count < int(product_viewed_count * product_added_percent):\n",
    "            this_timestamp += randint(0, int(seconds_increment / 2))\n",
    "            daily_temp = find_weather_data_by_timestamp(this_timestamp)\n",
    "            f.writerow([product['id'],\n",
    "                        user['id'], \n",
    "                        'ProductAdded',\n",
    "                        this_timestamp,\n",
    "                        daily_temp])\n",
    "            interactions += 1\n",
    "            product_added_count += 1\n",
    "\n",
    "        if cart_viewed_count < int(product_viewed_count * cart_viewed_percent):\n",
    "            this_timestamp += randint(0, int(seconds_increment / 2))\n",
    "            daily_temp = find_weather_data_by_timestamp(this_timestamp)\n",
    "            f.writerow([product['id'],\n",
    "                        user['id'], \n",
    "                        'CartViewed',\n",
    "                        this_timestamp,\n",
    "                        daily_temp])\n",
    "            interactions += 1\n",
    "            cart_viewed_count += 1\n",
    "\n",
    "        if checkout_started_count < int(product_viewed_count * checkout_started_percent):\n",
    "            this_timestamp += randint(0, int(seconds_increment / 2))\n",
    "            daily_temp = find_weather_data_by_timestamp(this_timestamp)\n",
    "            f.writerow([product['id'],\n",
    "                        user['id'], \n",
    "                        'CheckoutStarted',\n",
    "                        this_timestamp,\n",
    "                        daily_temp])\n",
    "            interactions += 1\n",
    "            checkout_started_count += 1\n",
    "\n",
    "        if order_completed_count < int(product_viewed_count * order_completed_percent):\n",
    "            this_timestamp += randint(0, int(seconds_increment / 2))\n",
    "            daily_temp = find_weather_data_by_timestamp(this_timestamp)\n",
    "            f.writerow([product['id'],\n",
    "                        user['id'], \n",
    "                        'OrderCompleted',\n",
    "                        this_timestamp,\n",
    "                        daily_temp])\n",
    "            interactions += 1\n",
    "            order_completed_count += 1\n",
    "    \n",
    "print(\"Done\")\n",
    "print(\"Total interactions: \" + str(interactions))\n",
    "print(\"Total product viewed: \" + str(product_viewed_count))\n",
    "print(\"Total product added: \" + str(product_added_count))\n",
    "print(\"Total cart viewed: \" + str(cart_viewed_count))\n",
    "print(\"Total checkout started: \" + str(checkout_started_count))\n",
    "print(\"Total order completed: \" + str(order_completed_count))"
   ]
  },
  {
   "cell_type": "markdown",
   "metadata": {},
   "source": [
    "#### Open and Explore the Interactions Dataset"
   ]
  },
  {
   "cell_type": "code",
   "execution_count": 18,
   "metadata": {},
   "outputs": [
    {
     "data": {
      "text/html": [
       "<div>\n",
       "<style scoped>\n",
       "    .dataframe tbody tr th:only-of-type {\n",
       "        vertical-align: middle;\n",
       "    }\n",
       "\n",
       "    .dataframe tbody tr th {\n",
       "        vertical-align: top;\n",
       "    }\n",
       "\n",
       "    .dataframe thead th {\n",
       "        text-align: right;\n",
       "    }\n",
       "</style>\n",
       "<table border=\"1\" class=\"dataframe\">\n",
       "  <thead>\n",
       "    <tr style=\"text-align: right;\">\n",
       "      <th></th>\n",
       "      <th>ITEM_ID</th>\n",
       "      <th>USER_ID</th>\n",
       "      <th>EVENT_TYPE</th>\n",
       "      <th>TIMESTAMP</th>\n",
       "      <th>DAILY_TEMPERATURE</th>\n",
       "    </tr>\n",
       "  </thead>\n",
       "  <tbody>\n",
       "    <tr>\n",
       "      <th>0</th>\n",
       "      <td>50</td>\n",
       "      <td>3271</td>\n",
       "      <td>ProductViewed</td>\n",
       "      <td>1529918883</td>\n",
       "      <td>hot</td>\n",
       "    </tr>\n",
       "    <tr>\n",
       "      <th>1</th>\n",
       "      <td>32</td>\n",
       "      <td>2228</td>\n",
       "      <td>ProductViewed</td>\n",
       "      <td>1529918900</td>\n",
       "      <td>hot</td>\n",
       "    </tr>\n",
       "    <tr>\n",
       "      <th>...</th>\n",
       "      <td>...</td>\n",
       "      <td>...</td>\n",
       "      <td>...</td>\n",
       "      <td>...</td>\n",
       "      <td>...</td>\n",
       "    </tr>\n",
       "    <tr>\n",
       "      <th>1999999</th>\n",
       "      <td>1</td>\n",
       "      <td>3739</td>\n",
       "      <td>ProductViewed</td>\n",
       "      <td>1555780961</td>\n",
       "      <td>cold</td>\n",
       "    </tr>\n",
       "    <tr>\n",
       "      <th>2000000</th>\n",
       "      <td>1</td>\n",
       "      <td>3739</td>\n",
       "      <td>CartViewed</td>\n",
       "      <td>1555780962</td>\n",
       "      <td>cold</td>\n",
       "    </tr>\n",
       "  </tbody>\n",
       "</table>\n",
       "<p>2000001 rows × 5 columns</p>\n",
       "</div>"
      ],
      "text/plain": [
       "         ITEM_ID  USER_ID     EVENT_TYPE   TIMESTAMP DAILY_TEMPERATURE\n",
       "0             50     3271  ProductViewed  1529918883               hot\n",
       "1             32     2228  ProductViewed  1529918900               hot\n",
       "...          ...      ...            ...         ...               ...\n",
       "1999999        1     3739  ProductViewed  1555780961              cold\n",
       "2000000        1     3739     CartViewed  1555780962              cold\n",
       "\n",
       "[2000001 rows x 5 columns]"
      ]
     },
     "execution_count": 18,
     "metadata": {},
     "output_type": "execute_result"
    }
   ],
   "source": [
    "interactions_df = pd.read_csv(interactions_filename)\n",
    "interactions_df"
   ]
  },
  {
   "cell_type": "markdown",
   "metadata": {},
   "source": [
    "Chart the counts of each `EVENT_TYPE` generated for the interactions dataset. We're simulating a site where visitors heavily view/browse products and to a lesser degree add products to their cart and checkout."
   ]
  },
  {
   "cell_type": "code",
   "execution_count": 19,
   "metadata": {},
   "outputs": [
    {
     "data": {
      "text/plain": [
       "<AxesSubplot:xlabel='EVENT_TYPE', ylabel='count'>"
      ]
     },
     "execution_count": 19,
     "metadata": {},
     "output_type": "execute_result"
    },
    {
     "data": {
      "image/png": "[encoded data removed]",
      "text/plain": [
       "<Figure size 1152x216 with 1 Axes>"
      ]
     },
     "metadata": {
      "needs_background": "light"
     },
     "output_type": "display_data"
    }
   ],
   "source": [
    "categorical_attributes = interactions_df.select_dtypes(include = ['object'])\n",
    "\n",
    "plt.figure(figsize=(16,3))\n",
    "sns.countplot(data = categorical_attributes, x = 'EVENT_TYPE')"
   ]
  },
  {
   "cell_type": "markdown",
   "metadata": {},
   "source": [
    "Take note of the DAILY_TEMPERATURE values included in our interaction dataset, you will be using them for getting recomendations. "
   ]
  },
  {
   "cell_type": "code",
   "execution_count": 20,
   "metadata": {},
   "outputs": [
    {
     "data": {
      "text/plain": [
       "array(['hot', 'very hot', 'lukewarm', 'slightly cold', 'cold',\n",
       "       'very cold'], dtype=object)"
      ]
     },
     "execution_count": 20,
     "metadata": {},
     "output_type": "execute_result"
    }
   ],
   "source": [
    "interactions_df['DAILY_TEMPERATURE'].unique()"
   ]
  },
  {
   "cell_type": "markdown",
   "metadata": {},
   "source": [
    "Chart the counts of each DAILY_TEMPERATURE generated for the interactions dataset. Check how the temperature is changing during the seasonality of the sample interactions."
   ]
  },
  {
   "cell_type": "code",
   "execution_count": 21,
   "metadata": {},
   "outputs": [
    {
     "data": {
      "text/plain": [
       "<AxesSubplot:xlabel='DAILY_TEMPERATURE', ylabel='count'>"
      ]
     },
     "execution_count": 21,
     "metadata": {},
     "output_type": "execute_result"
    },
    {
     "data": {
      "image/png": "[encoded data removed]",
      "text/plain": [
       "<Figure size 432x288 with 1 Axes>"
      ]
     },
     "metadata": {
      "needs_background": "light"
     },
     "output_type": "display_data"
    }
   ],
   "source": [
    "sns.countplot(data = categorical_attributes, x = 'DAILY_TEMPERATURE')"
   ]
  },
  {
   "cell_type": "markdown",
   "metadata": {},
   "source": [
    "#### Upload Data\n",
    "Now we will upload the data we prepared to S3."
   ]
  },
  {
   "cell_type": "code",
   "execution_count": 22,
   "metadata": {},
   "outputs": [],
   "source": [
    "boto3.Session().resource('s3').Bucket(bucket).Object(interactions_filename).upload_file(interactions_filename)"
   ]
  },
  {
   "cell_type": "code",
   "execution_count": 23,
   "metadata": {},
   "outputs": [],
   "source": [
    "boto3.Session().resource('s3').Bucket(bucket).Object(items_filename).upload_file(items_filename)"
   ]
  },
  {
   "cell_type": "code",
   "execution_count": 24,
   "metadata": {},
   "outputs": [],
   "source": [
    "boto3.Session().resource('s3').Bucket(bucket).Object(users_filename).upload_file(users_filename)"
   ]
  },
  {
   "cell_type": "markdown",
   "metadata": {},
   "source": [
    "## Configure Amazon Personalize\n",
    "\n",
    "Now that we've prepared our three datasets and uploaded them to S3 we'll need to configure the Amazon Personalize service to understand our data so that it can be used to train models for generating recommendations."
   ]
  },
  {
   "cell_type": "markdown",
   "metadata": {},
   "source": [
    "### Create Schemas for Datasets\n",
    "\n",
    "Amazon Personalize requires a schema for each dataset so it can map the columns in our CSVs to fields for model training. Each schema is declared in JSON using the [Apache Avro](https://avro.apache.org/) format.\n",
    "\n",
    "Let's define and create schemas in Personalize for our datasets."
   ]
  },
  {
   "cell_type": "markdown",
   "metadata": {},
   "source": [
    "#### Items Dataset Schema"
   ]
  },
  {
   "cell_type": "code",
   "execution_count": 25,
   "metadata": {},
   "outputs": [
    {
     "name": "stdout",
     "output_type": "stream",
     "text": [
      "{\n",
      "  \"schemaArn\": \"arn:aws:personalize:us-east-1:903376376581:schema/adx-weather-schema-items\",\n",
      "  \"ResponseMetadata\": {\n",
      "    \"RequestId\": \"68bed50f-deca-4b3d-aaeb-4bc2f49dabea\",\n",
      "    \"HTTPStatusCode\": 200,\n",
      "    \"HTTPHeaders\": {\n",
      "      \"content-type\": \"application/x-amz-json-1.1\",\n",
      "      \"date\": \"Mon, 20 Sep 2021 19:40:13 GMT\",\n",
      "      \"x-amzn-requestid\": \"68bed50f-deca-4b3d-aaeb-4bc2f49dabea\",\n",
      "      \"content-length\": \"90\",\n",
      "      \"connection\": \"keep-alive\"\n",
      "    },\n",
      "    \"RetryAttempts\": 0\n",
      "  }\n",
      "}\n"
     ]
    }
   ],
   "source": [
    "items_schema = {\n",
    "    \"type\": \"record\",\n",
    "    \"name\": \"Items\",\n",
    "    \"namespace\": \"com.amazonaws.personalize.schema\",\n",
    "    \"fields\": [\n",
    "        {\n",
    "            \"name\": \"ITEM_ID\",\n",
    "            \"type\": \"string\"\n",
    "        },\n",
    "        {\n",
    "            \"name\": \"CATEGORY\",\n",
    "            \"type\": \"string\",\n",
    "            \"categorical\": True,\n",
    "        },\n",
    "        {\n",
    "            \"name\": \"TYPE\",\n",
    "            \"type\": \"string\",\n",
    "            \"categorical\": True,\n",
    "        },\n",
    "        {\n",
    "            \"name\": \"SIZE\",\n",
    "            \"type\": \"string\",\n",
    "            \"categorical\": True,\n",
    "        }\n",
    "    ],\n",
    "    \"version\": \"1.0\"\n",
    "}\n",
    "\n",
    "create_schema_response = personalize.create_schema(\n",
    "    name = \"adx-weather-schema-items\",\n",
    "    schema = json.dumps(items_schema)\n",
    ")\n",
    "\n",
    "items_schema_arn = create_schema_response['schemaArn']\n",
    "print(json.dumps(create_schema_response, indent=2))"
   ]
  },
  {
   "cell_type": "markdown",
   "metadata": {},
   "source": [
    "#### Users Dataset Schema"
   ]
  },
  {
   "cell_type": "code",
   "execution_count": 26,
   "metadata": {},
   "outputs": [
    {
     "name": "stdout",
     "output_type": "stream",
     "text": [
      "{\n",
      "  \"schemaArn\": \"arn:aws:personalize:us-east-1:903376376581:schema/adx-weather-users\",\n",
      "  \"ResponseMetadata\": {\n",
      "    \"RequestId\": \"796aa762-8976-4922-a0a3-9720b34d551a\",\n",
      "    \"HTTPStatusCode\": 200,\n",
      "    \"HTTPHeaders\": {\n",
      "      \"content-type\": \"application/x-amz-json-1.1\",\n",
      "      \"date\": \"Mon, 20 Sep 2021 19:40:16 GMT\",\n",
      "      \"x-amzn-requestid\": \"796aa762-8976-4922-a0a3-9720b34d551a\",\n",
      "      \"content-length\": \"83\",\n",
      "      \"connection\": \"keep-alive\"\n",
      "    },\n",
      "    \"RetryAttempts\": 0\n",
      "  }\n",
      "}\n"
     ]
    }
   ],
   "source": [
    "users_schema = {\n",
    "    \"type\": \"record\",\n",
    "    \"name\": \"Users\",\n",
    "    \"namespace\": \"com.amazonaws.personalize.schema\",\n",
    "    \"fields\": [\n",
    "        {\n",
    "            \"name\": \"USER_ID\",\n",
    "            \"type\": \"string\"\n",
    "        },\n",
    "        {\n",
    "            \"name\": \"PERSONA\",\n",
    "            \"type\": \"string\",\n",
    "            \"categorical\": True\n",
    "        }\n",
    "    ],\n",
    "    \"version\": \"1.0\"\n",
    "}\n",
    "\n",
    "create_schema_response = personalize.create_schema(\n",
    "    name = \"adx-weather-users\",\n",
    "    schema = json.dumps(users_schema)\n",
    ")\n",
    "\n",
    "users_schema_arn = create_schema_response['schemaArn']\n",
    "print(json.dumps(create_schema_response, indent=2))"
   ]
  },
  {
   "cell_type": "markdown",
   "metadata": {},
   "source": [
    "#### Interactions Dataset Schema"
   ]
  },
  {
   "cell_type": "code",
   "execution_count": 27,
   "metadata": {},
   "outputs": [
    {
     "name": "stdout",
     "output_type": "stream",
     "text": [
      "{\n",
      "  \"schemaArn\": \"arn:aws:personalize:us-east-1:903376376581:schema/adx-weather-interactions\",\n",
      "  \"ResponseMetadata\": {\n",
      "    \"RequestId\": \"8aaff0a1-1396-4c6f-a91b-af0a89d93dc1\",\n",
      "    \"HTTPStatusCode\": 200,\n",
      "    \"HTTPHeaders\": {\n",
      "      \"content-type\": \"application/x-amz-json-1.1\",\n",
      "      \"date\": \"Mon, 20 Sep 2021 19:40:18 GMT\",\n",
      "      \"x-amzn-requestid\": \"8aaff0a1-1396-4c6f-a91b-af0a89d93dc1\",\n",
      "      \"content-length\": \"90\",\n",
      "      \"connection\": \"keep-alive\"\n",
      "    },\n",
      "    \"RetryAttempts\": 0\n",
      "  }\n",
      "}\n"
     ]
    }
   ],
   "source": [
    "interactions_schema = {\n",
    "    \"type\": \"record\",\n",
    "    \"name\": \"Interactions\",\n",
    "    \"namespace\": \"com.amazonaws.personalize.schema\",\n",
    "    \"fields\": [\n",
    "        {\n",
    "            \"name\": \"ITEM_ID\",\n",
    "            \"type\": \"string\"\n",
    "        },\n",
    "        {\n",
    "            \"name\": \"USER_ID\",\n",
    "            \"type\": \"string\"\n",
    "        },\n",
    "        {\n",
    "            \"name\": \"EVENT_TYPE\",\n",
    "            \"type\": \"string\"\n",
    "        },\n",
    "        {\n",
    "            \"name\": \"TIMESTAMP\",\n",
    "            \"type\": \"long\"\n",
    "        },\n",
    "        {\n",
    "            \"name\": \"DAILY_TEMPERATURE\",\n",
    "            \"type\": \"string\",\n",
    "            \"categorical\": True\n",
    "        }\n",
    "    ],\n",
    "    \"version\": \"1.0\"\n",
    "}\n",
    "\n",
    "create_schema_response = personalize.create_schema(\n",
    "    name = \"adx-weather-interactions\",\n",
    "    schema = json.dumps(interactions_schema)\n",
    ")\n",
    "\n",
    "interactions_schema_arn = create_schema_response['schemaArn']\n",
    "print(json.dumps(create_schema_response, indent=2))"
   ]
  },
  {
   "cell_type": "markdown",
   "metadata": {},
   "source": [
    "### Create and Wait for Dataset Group\n",
    "\n",
    "Next we need to create the dataset group that will contain our three datasets."
   ]
  },
  {
   "cell_type": "markdown",
   "metadata": {},
   "source": [
    "#### Create Dataset Group"
   ]
  },
  {
   "cell_type": "code",
   "execution_count": 28,
   "metadata": {},
   "outputs": [
    {
     "name": "stdout",
     "output_type": "stream",
     "text": [
      "{\n",
      "  \"datasetGroupArn\": \"arn:aws:personalize:us-east-1:903376376581:dataset-group/adx-weather-dataset\",\n",
      "  \"ResponseMetadata\": {\n",
      "    \"RequestId\": \"9c80dbde-ff24-4700-9f9b-89bec1e04012\",\n",
      "    \"HTTPStatusCode\": 200,\n",
      "    \"HTTPHeaders\": {\n",
      "      \"content-type\": \"application/x-amz-json-1.1\",\n",
      "      \"date\": \"Mon, 20 Sep 2021 19:40:22 GMT\",\n",
      "      \"x-amzn-requestid\": \"9c80dbde-ff24-4700-9f9b-89bec1e04012\",\n",
      "      \"content-length\": \"98\",\n",
      "      \"connection\": \"keep-alive\"\n",
      "    },\n",
      "    \"RetryAttempts\": 0\n",
      "  }\n",
      "}\n",
      "DatasetGroupArn = arn:aws:personalize:us-east-1:903376376581:dataset-group/adx-weather-dataset\n"
     ]
    }
   ],
   "source": [
    "create_dataset_group_response = personalize.create_dataset_group(\n",
    "    name = 'adx-weather-dataset'\n",
    ")\n",
    "dataset_group_arn = create_dataset_group_response['datasetGroupArn']\n",
    "print(json.dumps(create_dataset_group_response, indent=2))\n",
    "\n",
    "print(f'DatasetGroupArn = {dataset_group_arn}')"
   ]
  },
  {
   "cell_type": "markdown",
   "metadata": {},
   "source": [
    "#### Wait for Dataset Group to Have ACTIVE Status"
   ]
  },
  {
   "cell_type": "code",
   "execution_count": 29,
   "metadata": {},
   "outputs": [
    {
     "name": "stdout",
     "output_type": "stream",
     "text": [
      "DatasetGroup: CREATE PENDING\n",
      "DatasetGroup: ACTIVE\n"
     ]
    }
   ],
   "source": [
    "status = None\n",
    "max_time = time.time() + 3*60*60 # 3 hours\n",
    "while time.time() < max_time:\n",
    "    describe_dataset_group_response = personalize.describe_dataset_group(\n",
    "        datasetGroupArn = dataset_group_arn\n",
    "    )\n",
    "    status = describe_dataset_group_response[\"datasetGroup\"][\"status\"]\n",
    "    print(\"DatasetGroup: {}\".format(status))\n",
    "    \n",
    "    if status == \"ACTIVE\" or status == \"CREATE FAILED\":\n",
    "        break\n",
    "        \n",
    "    time.sleep(15)"
   ]
  },
  {
   "cell_type": "markdown",
   "metadata": {},
   "source": [
    "### Create Items Dataset\n",
    "\n",
    "Next we will create the datasets in Personalize for our three dataset types. Let's start with the items dataset."
   ]
  },
  {
   "cell_type": "code",
   "execution_count": 30,
   "metadata": {},
   "outputs": [
    {
     "name": "stdout",
     "output_type": "stream",
     "text": [
      "{\n",
      "  \"datasetArn\": \"arn:aws:personalize:us-east-1:903376376581:dataset/adx-weather-dataset/ITEMS\",\n",
      "  \"ResponseMetadata\": {\n",
      "    \"RequestId\": \"b3a09e69-3e06-4375-bdf7-13c99f796e8f\",\n",
      "    \"HTTPStatusCode\": 200,\n",
      "    \"HTTPHeaders\": {\n",
      "      \"content-type\": \"application/x-amz-json-1.1\",\n",
      "      \"date\": \"Mon, 20 Sep 2021 19:43:04 GMT\",\n",
      "      \"x-amzn-requestid\": \"b3a09e69-3e06-4375-bdf7-13c99f796e8f\",\n",
      "      \"content-length\": \"93\",\n",
      "      \"connection\": \"keep-alive\"\n",
      "    },\n",
      "    \"RetryAttempts\": 0\n",
      "  }\n",
      "}\n"
     ]
    }
   ],
   "source": [
    "dataset_type = \"ITEMS\"\n",
    "create_dataset_response = personalize.create_dataset(\n",
    "    name = \"adx-weather-dataset-items\",\n",
    "    datasetType = dataset_type,\n",
    "    datasetGroupArn = dataset_group_arn,\n",
    "    schemaArn = items_schema_arn\n",
    ")\n",
    "\n",
    "items_dataset_arn = create_dataset_response['datasetArn']\n",
    "print(json.dumps(create_dataset_response, indent=2))"
   ]
  },
  {
   "cell_type": "markdown",
   "metadata": {},
   "source": [
    "### Create Users Dataset"
   ]
  },
  {
   "cell_type": "code",
   "execution_count": 31,
   "metadata": {},
   "outputs": [
    {
     "name": "stdout",
     "output_type": "stream",
     "text": [
      "{\n",
      "  \"datasetArn\": \"arn:aws:personalize:us-east-1:903376376581:dataset/adx-weather-dataset/USERS\",\n",
      "  \"ResponseMetadata\": {\n",
      "    \"RequestId\": \"1e461e3d-c895-48a2-8bb0-26952cd9e9ee\",\n",
      "    \"HTTPStatusCode\": 200,\n",
      "    \"HTTPHeaders\": {\n",
      "      \"content-type\": \"application/x-amz-json-1.1\",\n",
      "      \"date\": \"Mon, 20 Sep 2021 19:43:07 GMT\",\n",
      "      \"x-amzn-requestid\": \"1e461e3d-c895-48a2-8bb0-26952cd9e9ee\",\n",
      "      \"content-length\": \"93\",\n",
      "      \"connection\": \"keep-alive\"\n",
      "    },\n",
      "    \"RetryAttempts\": 0\n",
      "  }\n",
      "}\n"
     ]
    }
   ],
   "source": [
    "dataset_type = \"USERS\"\n",
    "create_dataset_response = personalize.create_dataset(\n",
    "    name = \"adx-weather-dataset-users\",\n",
    "    datasetType = dataset_type,\n",
    "    datasetGroupArn = dataset_group_arn,\n",
    "    schemaArn = users_schema_arn\n",
    ")\n",
    "\n",
    "users_dataset_arn = create_dataset_response['datasetArn']\n",
    "print(json.dumps(create_dataset_response, indent=2))"
   ]
  },
  {
   "cell_type": "markdown",
   "metadata": {},
   "source": [
    "### Create Interactions Dataset"
   ]
  },
  {
   "cell_type": "code",
   "execution_count": 32,
   "metadata": {},
   "outputs": [
    {
     "name": "stdout",
     "output_type": "stream",
     "text": [
      "{\n",
      "  \"datasetArn\": \"arn:aws:personalize:us-east-1:903376376581:dataset/adx-weather-dataset/INTERACTIONS\",\n",
      "  \"ResponseMetadata\": {\n",
      "    \"RequestId\": \"971d923f-9d16-409a-b30e-82b891264353\",\n",
      "    \"HTTPStatusCode\": 200,\n",
      "    \"HTTPHeaders\": {\n",
      "      \"content-type\": \"application/x-amz-json-1.1\",\n",
      "      \"date\": \"Mon, 20 Sep 2021 19:43:10 GMT\",\n",
      "      \"x-amzn-requestid\": \"971d923f-9d16-409a-b30e-82b891264353\",\n",
      "      \"content-length\": \"100\",\n",
      "      \"connection\": \"keep-alive\"\n",
      "    },\n",
      "    \"RetryAttempts\": 0\n",
      "  }\n",
      "}\n"
     ]
    }
   ],
   "source": [
    "dataset_type = \"INTERACTIONS\"\n",
    "create_dataset_response = personalize.create_dataset(\n",
    "    name = \"adx-weather-dataset-interactions\",\n",
    "    datasetType = dataset_type,\n",
    "    datasetGroupArn = dataset_group_arn,\n",
    "    schemaArn = interactions_schema_arn\n",
    ")\n",
    "\n",
    "interactions_dataset_arn = create_dataset_response['datasetArn']\n",
    "print(json.dumps(create_dataset_response, indent=2))"
   ]
  },
  {
   "cell_type": "markdown",
   "metadata": {},
   "source": [
    "## Import Datasets to Personalize\n",
    "\n",
    "Up to this point we have generated CSVs containing data for our users, items, and interactions and staged them in an S3 bucket. We also created schemas in Personalize that define the columns in our CSVs. Then we created a datset group and three datasets in Personalize that will receive our data. In the following steps we will create import jobs with Personalize that will import the datasets from our S3 bucket into the service.\n",
    "\n",
    "### Setup Permissions\n",
    "\n",
    "By default, the Personalize service does not have permission to acccess the data we uploaded into the S3 bucket in our account. In order to grant access to the  Personalize service to read our CSVs, we need to set a Bucket Policy and create an IAM role that the Amazon Personalize service will assume."
   ]
  },
  {
   "cell_type": "markdown",
   "metadata": {},
   "source": [
    "#### Attach policy to S3 bucket"
   ]
  },
  {
   "cell_type": "code",
   "execution_count": 33,
   "metadata": {},
   "outputs": [],
   "source": [
    "s3 = boto3.client(\"s3\")\n",
    "\n",
    "policy = {\n",
    "    \"Version\": \"2012-10-17\",\n",
    "    \"Id\": \"PersonalizeS3BucketAccessPolicy\",\n",
    "    \"Statement\": [\n",
    "        {\n",
    "            \"Sid\": \"PersonalizeS3BucketAccessPolicy\",\n",
    "            \"Effect\": \"Allow\",\n",
    "            \"Principal\": {\n",
    "                \"Service\": \"personalize.amazonaws.com\"\n",
    "            },\n",
    "            \"Action\": [\n",
    "                \"s3:GetObject\",\n",
    "                \"s3:ListBucket\"\n",
    "            ],\n",
    "            \"Resource\": [\n",
    "                \"arn:aws:s3:::{}\".format(bucket),\n",
    "                \"arn:aws:s3:::{}/*\".format(bucket)\n",
    "            ]\n",
    "        }\n",
    "    ]\n",
    "}\n",
    "\n",
    "s3.put_bucket_policy(Bucket=bucket, Policy=json.dumps(policy));"
   ]
  },
  {
   "cell_type": "markdown",
   "metadata": {},
   "source": [
    "#### Create S3 Read Only Access Role"
   ]
  },
  {
   "cell_type": "code",
   "execution_count": null,
   "metadata": {},
   "outputs": [],
   "source": [
    "iam = boto3.client(\"iam\")\n",
    "\n",
    "role_name = 'CPG'+\"-PersonalizeS3\"\n",
    "assume_role_policy_document = {\n",
    "    \"Version\": \"2012-10-17\",\n",
    "    \"Statement\": [\n",
    "        {\n",
    "          \"Effect\": \"Allow\",\n",
    "          \"Principal\": {\n",
    "            \"Service\": \"personalize.amazonaws.com\"\n",
    "          },\n",
    "          \"Action\": \"sts:AssumeRole\"\n",
    "        }\n",
    "    ]\n",
    "}\n",
    "\n",
    "create_role_response = iam.create_role(\n",
    "    RoleName = role_name,\n",
    "    AssumeRolePolicyDocument = json.dumps(assume_role_policy_document)\n",
    ");\n",
    "\n",
    "iam.attach_role_policy(\n",
    "    RoleName = role_name,\n",
    "    PolicyArn = \"arn:aws:iam::aws:policy/AmazonS3ReadOnlyAccess\"\n",
    ");\n",
    "\n",
    "role_arn = create_role_response[\"Role\"][\"Arn\"]\n",
    "print('IAM Role: {}'.format(role_arn))\n",
    "# Pause to allow role to fully persist\n",
    "time.sleep(10)"
   ]
  },
  {
   "cell_type": "markdown",
   "metadata": {},
   "source": [
    "### Create Import Jobs\n",
    "\n",
    "With the permissions in place to allow Personalize to access our CSV files, let's create three import jobs to import each file into its respective dataset. Each import job can take several minutes to complete so we'll create all three and then wait for them all to complete."
   ]
  },
  {
   "cell_type": "markdown",
   "metadata": {},
   "source": [
    "#### Create Items Dataset Import Job"
   ]
  },
  {
   "cell_type": "code",
   "execution_count": 34,
   "metadata": {},
   "outputs": [
    {
     "name": "stdout",
     "output_type": "stream",
     "text": [
      "{\n",
      "  \"datasetImportJobArn\": \"arn:aws:personalize:us-east-1:903376376581:dataset-import-job/adx-weather-dataset-items-import-job\",\n",
      "  \"ResponseMetadata\": {\n",
      "    \"RequestId\": \"746d4668-8335-49a2-abed-b6238d55387f\",\n",
      "    \"HTTPStatusCode\": 200,\n",
      "    \"HTTPHeaders\": {\n",
      "      \"content-type\": \"application/x-amz-json-1.1\",\n",
      "      \"date\": \"Mon, 20 Sep 2021 19:43:48 GMT\",\n",
      "      \"x-amzn-requestid\": \"746d4668-8335-49a2-abed-b6238d55387f\",\n",
      "      \"content-length\": \"124\",\n",
      "      \"connection\": \"keep-alive\"\n",
      "    },\n",
      "    \"RetryAttempts\": 0\n",
      "  }\n",
      "}\n"
     ]
    }
   ],
   "source": [
    "items_create_dataset_import_job_response = personalize.create_dataset_import_job(\n",
    "    jobName = \"adx-weather-dataset-items-import-job\",\n",
    "    datasetArn = items_dataset_arn,\n",
    "    dataSource = {\n",
    "        \"dataLocation\": \"s3://{}/{}\".format(bucket, items_filename)\n",
    "    },\n",
    "    roleArn = role_arn\n",
    ")\n",
    "\n",
    "items_dataset_import_job_arn = items_create_dataset_import_job_response['datasetImportJobArn']\n",
    "print(json.dumps(items_create_dataset_import_job_response, indent=2))"
   ]
  },
  {
   "cell_type": "markdown",
   "metadata": {},
   "source": [
    "#### Create Users Dataset Import Job"
   ]
  },
  {
   "cell_type": "code",
   "execution_count": 35,
   "metadata": {},
   "outputs": [
    {
     "name": "stdout",
     "output_type": "stream",
     "text": [
      "{\n",
      "  \"datasetImportJobArn\": \"arn:aws:personalize:us-east-1:903376376581:dataset-import-job/adx-weather-dataset-users-import-job\",\n",
      "  \"ResponseMetadata\": {\n",
      "    \"RequestId\": \"ba13338e-e073-4cc2-b859-8abe1ce2cd8f\",\n",
      "    \"HTTPStatusCode\": 200,\n",
      "    \"HTTPHeaders\": {\n",
      "      \"content-type\": \"application/x-amz-json-1.1\",\n",
      "      \"date\": \"Mon, 20 Sep 2021 19:43:51 GMT\",\n",
      "      \"x-amzn-requestid\": \"ba13338e-e073-4cc2-b859-8abe1ce2cd8f\",\n",
      "      \"content-length\": \"124\",\n",
      "      \"connection\": \"keep-alive\"\n",
      "    },\n",
      "    \"RetryAttempts\": 0\n",
      "  }\n",
      "}\n"
     ]
    }
   ],
   "source": [
    "users_create_dataset_import_job_response = personalize.create_dataset_import_job(\n",
    "    jobName = \"adx-weather-dataset-users-import-job\",\n",
    "    datasetArn = users_dataset_arn,\n",
    "    dataSource = {\n",
    "        \"dataLocation\": \"s3://{}/{}\".format(bucket, users_filename)\n",
    "    },\n",
    "    roleArn = role_arn\n",
    ")\n",
    "\n",
    "users_dataset_import_job_arn = users_create_dataset_import_job_response['datasetImportJobArn']\n",
    "print(json.dumps(users_create_dataset_import_job_response, indent=2))"
   ]
  },
  {
   "cell_type": "markdown",
   "metadata": {},
   "source": [
    "#### Create Interactions Dataset Import Job"
   ]
  },
  {
   "cell_type": "code",
   "execution_count": 36,
   "metadata": {},
   "outputs": [
    {
     "name": "stdout",
     "output_type": "stream",
     "text": [
      "{\n",
      "  \"datasetImportJobArn\": \"arn:aws:personalize:us-east-1:903376376581:dataset-import-job/adx-weather-dataset-interactions-import-job\",\n",
      "  \"ResponseMetadata\": {\n",
      "    \"RequestId\": \"37c3fbeb-06c7-4a95-891b-e6a9d555597e\",\n",
      "    \"HTTPStatusCode\": 200,\n",
      "    \"HTTPHeaders\": {\n",
      "      \"content-type\": \"application/x-amz-json-1.1\",\n",
      "      \"date\": \"Mon, 20 Sep 2021 19:43:54 GMT\",\n",
      "      \"x-amzn-requestid\": \"37c3fbeb-06c7-4a95-891b-e6a9d555597e\",\n",
      "      \"content-length\": \"131\",\n",
      "      \"connection\": \"keep-alive\"\n",
      "    },\n",
      "    \"RetryAttempts\": 0\n",
      "  }\n",
      "}\n"
     ]
    }
   ],
   "source": [
    "interactions_create_dataset_import_job_response = personalize.create_dataset_import_job(\n",
    "    jobName = \"adx-weather-dataset-interactions-import-job\",\n",
    "    datasetArn = interactions_dataset_arn,\n",
    "    dataSource = {\n",
    "        \"dataLocation\": \"s3://{}/{}\".format(bucket, interactions_filename)\n",
    "    },\n",
    "    roleArn = role_arn\n",
    ")\n",
    "\n",
    "interactions_dataset_import_job_arn = interactions_create_dataset_import_job_response['datasetImportJobArn']\n",
    "print(json.dumps(interactions_create_dataset_import_job_response, indent=2))"
   ]
  },
  {
   "cell_type": "markdown",
   "metadata": {},
   "source": [
    "### Wait for Import Jobs to Complete\n",
    "\n",
    "It will take 10-15 minutes for the import jobs to complete, while you're waiting you can learn more about Datasets and Schemas here: https://docs.aws.amazon.com/personalize/latest/dg/how-it-works-dataset-schema.html\n",
    "\n",
    "We will wait for all three jobs to finish."
   ]
  },
  {
   "cell_type": "markdown",
   "metadata": {},
   "source": [
    "#### Wait for Items Import Job to Complete"
   ]
  },
  {
   "cell_type": "code",
   "execution_count": 37,
   "metadata": {},
   "outputs": [
    {
     "name": "stdout",
     "output_type": "stream",
     "text": [
      "At least one dataset import job still in progress\n",
      "At least one dataset import job still in progress\n",
      "At least one dataset import job still in progress\n",
      "At least one dataset import job still in progress\n",
      "Import job arn:aws:personalize:us-east-1:903376376581:dataset-import-job/adx-weather-dataset-interactions-import-job successfully completed\n",
      "At least one dataset import job still in progress\n",
      "At least one dataset import job still in progress\n",
      "Import job arn:aws:personalize:us-east-1:903376376581:dataset-import-job/adx-weather-dataset-users-import-job successfully completed\n",
      "Import job arn:aws:personalize:us-east-1:903376376581:dataset-import-job/adx-weather-dataset-items-import-job successfully completed\n",
      "All import jobs have ended\n",
      "CPU times: user 55.3 ms, sys: 12 ms, total: 67.3 ms\n",
      "Wall time: 6min\n"
     ]
    }
   ],
   "source": [
    "%%time\n",
    "\n",
    "import_job_arns = [ items_dataset_import_job_arn, users_dataset_import_job_arn, interactions_dataset_import_job_arn ]\n",
    "\n",
    "max_time = time.time() + 3*60*60 # 3 hours\n",
    "while time.time() < max_time:\n",
    "    for job_arn in reversed(import_job_arns):\n",
    "        import_job_response = personalize.describe_dataset_import_job(\n",
    "            datasetImportJobArn = job_arn\n",
    "        )\n",
    "        status = import_job_response[\"datasetImportJob\"]['status']\n",
    "\n",
    "        if status == \"ACTIVE\":\n",
    "            print(f'Import job {job_arn} successfully completed')\n",
    "            import_job_arns.remove(job_arn)\n",
    "        elif status == \"CREATE FAILED\":\n",
    "            print(f'Import job {job_arn} failed')\n",
    "            if import_job_response.get('failureReason'):\n",
    "                print('   Reason: ' + import_job_response['failureReason'])\n",
    "            import_job_arns.remove(job_arn)\n",
    "\n",
    "    if len(import_job_arns) > 0:\n",
    "        print('At least one dataset import job still in progress')\n",
    "        time.sleep(60)\n",
    "    else:\n",
    "        print(\"All import jobs have ended\")\n",
    "        break"
   ]
  },
  {
   "cell_type": "markdown",
   "metadata": {},
   "source": [
    "## Create Solutions\n",
    "\n",
    "With our three datasets imported into our dataset group, we can now turn to training models. \n",
    "When creating a solution, you provide your dataset group and the recipe for training. Let's declare the recipes that we will need for our solutions."
   ]
  },
  {
   "cell_type": "markdown",
   "metadata": {},
   "source": [
    "### List Recipes\n",
    "\n",
    "First, let's list all available recipes."
   ]
  },
  {
   "cell_type": "code",
   "execution_count": null,
   "metadata": {},
   "outputs": [],
   "source": [
    "list_recipes_response = personalize.list_recipes()\n",
    "list_recipes_response"
   ]
  },
  {
   "cell_type": "markdown",
   "metadata": {},
   "source": [
    "As you can see above, there are several recipes to choose from. Let's use only the Product Recommendations"
   ]
  },
  {
   "cell_type": "markdown",
   "metadata": {},
   "source": [
    "#### Declare Personalize Recipe for Product Recommendations\n"
   ]
  },
  {
   "cell_type": "code",
   "execution_count": 38,
   "metadata": {},
   "outputs": [],
   "source": [
    "recommend_recipe_arn = \"arn:aws:personalize:::recipe/aws-user-personalization\""
   ]
  },
  {
   "cell_type": "markdown",
   "metadata": {},
   "source": [
    "### Create Solutions and Solution Versions\n",
    "\n",
    "With our recipes defined, we can now create our solutions and solution versions."
   ]
  },
  {
   "cell_type": "markdown",
   "metadata": {},
   "source": [
    "#### Create Product Recommendation Solution"
   ]
  },
  {
   "cell_type": "code",
   "execution_count": 39,
   "metadata": {},
   "outputs": [
    {
     "name": "stdout",
     "output_type": "stream",
     "text": [
      "{\n",
      "  \"solutionArn\": \"arn:aws:personalize:us-east-1:903376376581:solution/adx-weather-product-personalization\",\n",
      "  \"ResponseMetadata\": {\n",
      "    \"RequestId\": \"aa23e3be-2e62-492c-8436-752e3f359326\",\n",
      "    \"HTTPStatusCode\": 200,\n",
      "    \"HTTPHeaders\": {\n",
      "      \"content-type\": \"application/x-amz-json-1.1\",\n",
      "      \"date\": \"Mon, 20 Sep 2021 19:51:07 GMT\",\n",
      "      \"x-amzn-requestid\": \"aa23e3be-2e62-492c-8436-752e3f359326\",\n",
      "      \"content-length\": \"105\",\n",
      "      \"connection\": \"keep-alive\"\n",
      "    },\n",
      "    \"RetryAttempts\": 0\n",
      "  }\n",
      "}\n"
     ]
    }
   ],
   "source": [
    "create_solution_response = personalize.create_solution(\n",
    "    name = \"adx-weather-product-personalization\",\n",
    "    datasetGroupArn = dataset_group_arn,\n",
    "    recipeArn = recommend_recipe_arn\n",
    ")\n",
    "\n",
    "recommend_solution_arn = create_solution_response['solutionArn']\n",
    "print(json.dumps(create_solution_response, indent=2))"
   ]
  },
  {
   "cell_type": "markdown",
   "metadata": {},
   "source": [
    "#### Create Product Recommendation Solution Version"
   ]
  },
  {
   "cell_type": "code",
   "execution_count": 40,
   "metadata": {},
   "outputs": [
    {
     "name": "stdout",
     "output_type": "stream",
     "text": [
      "{\n",
      "  \"solutionVersionArn\": \"arn:aws:personalize:us-east-1:903376376581:solution/adx-weather-product-personalization/f7a06b4f\",\n",
      "  \"ResponseMetadata\": {\n",
      "    \"RequestId\": \"bd10d702-0b42-4bbf-ac27-673e778476de\",\n",
      "    \"HTTPStatusCode\": 200,\n",
      "    \"HTTPHeaders\": {\n",
      "      \"content-type\": \"application/x-amz-json-1.1\",\n",
      "      \"date\": \"Mon, 20 Sep 2021 19:51:11 GMT\",\n",
      "      \"x-amzn-requestid\": \"bd10d702-0b42-4bbf-ac27-673e778476de\",\n",
      "      \"content-length\": \"121\",\n",
      "      \"connection\": \"keep-alive\"\n",
      "    },\n",
      "    \"RetryAttempts\": 0\n",
      "  }\n",
      "}\n"
     ]
    }
   ],
   "source": [
    "create_solution_version_response = personalize.create_solution_version(\n",
    "    solutionArn = recommend_solution_arn\n",
    ")\n",
    "\n",
    "recommend_solution_version_arn = create_solution_version_response['solutionVersionArn']\n",
    "print(json.dumps(create_solution_version_response, indent=2))"
   ]
  },
  {
   "cell_type": "markdown",
   "metadata": {},
   "source": [
    "### Wait for Solution Versions to Complete\n",
    "\n",
    "It can take 40-60 minutes for all solution versions to be created. During this process a model is being trained and tested with the data contained within your datasets. The duration of training jobs can increase based on the size of the dataset, training parameters and using AutoML vs. manually selecting a recipe. We submitted requests for all three solutions and versions at once so they are trained in parallel and then below we will wait for all three to finish.\n",
    "\n",
    "While you are waiting for this process to complete you can learn more about solutions here: https://docs.aws.amazon.com/personalize/latest/dg/training-deploying-solutions.html"
   ]
  },
  {
   "cell_type": "markdown",
   "metadata": {},
   "source": [
    "#### Wait for Related Products Solution Version to Have ACTIVE Status"
   ]
  },
  {
   "cell_type": "code",
   "execution_count": 41,
   "metadata": {},
   "outputs": [
    {
     "name": "stdout",
     "output_type": "stream",
     "text": [
      "CREATE PENDING\n",
      "CREATE PENDING\n",
      "CREATE IN_PROGRESS\n",
      "CREATE IN_PROGRESS\n",
      "CREATE IN_PROGRESS\n",
      "CREATE IN_PROGRESS\n",
      "CREATE IN_PROGRESS\n",
      "CREATE IN_PROGRESS\n",
      "CREATE IN_PROGRESS\n",
      "CREATE IN_PROGRESS\n",
      "CREATE IN_PROGRESS\n",
      "CREATE IN_PROGRESS\n",
      "CREATE IN_PROGRESS\n",
      "CREATE IN_PROGRESS\n",
      "CREATE IN_PROGRESS\n",
      "CREATE IN_PROGRESS\n",
      "CREATE IN_PROGRESS\n",
      "CREATE IN_PROGRESS\n",
      "CREATE IN_PROGRESS\n",
      "CREATE IN_PROGRESS\n",
      "CREATE IN_PROGRESS\n",
      "CREATE IN_PROGRESS\n",
      "CREATE IN_PROGRESS\n",
      "CREATE IN_PROGRESS\n",
      "CREATE IN_PROGRESS\n",
      "CREATE IN_PROGRESS\n",
      "CREATE IN_PROGRESS\n",
      "CREATE IN_PROGRESS\n",
      "CREATE IN_PROGRESS\n",
      "CREATE IN_PROGRESS\n",
      "CREATE IN_PROGRESS\n",
      "CREATE IN_PROGRESS\n",
      "CREATE IN_PROGRESS\n",
      "CREATE IN_PROGRESS\n",
      "CREATE IN_PROGRESS\n",
      "CREATE IN_PROGRESS\n",
      "CREATE IN_PROGRESS\n",
      "CREATE IN_PROGRESS\n",
      "CREATE IN_PROGRESS\n",
      "CREATE IN_PROGRESS\n",
      "CREATE IN_PROGRESS\n",
      "CREATE IN_PROGRESS\n",
      "CREATE IN_PROGRESS\n",
      "CREATE IN_PROGRESS\n",
      "CREATE IN_PROGRESS\n",
      "CREATE IN_PROGRESS\n",
      "CREATE IN_PROGRESS\n",
      "CREATE IN_PROGRESS\n",
      "CREATE IN_PROGRESS\n",
      "CREATE IN_PROGRESS\n",
      "CREATE IN_PROGRESS\n",
      "CREATE IN_PROGRESS\n",
      "CREATE IN_PROGRESS\n",
      "CREATE IN_PROGRESS\n",
      "CREATE IN_PROGRESS\n",
      "CREATE IN_PROGRESS\n",
      "CREATE IN_PROGRESS\n",
      "CREATE IN_PROGRESS\n",
      "CREATE IN_PROGRESS\n",
      "CREATE IN_PROGRESS\n",
      "CREATE IN_PROGRESS\n",
      "CREATE IN_PROGRESS\n",
      "CREATE IN_PROGRESS\n",
      "CREATE IN_PROGRESS\n",
      "CREATE IN_PROGRESS\n",
      "CREATE IN_PROGRESS\n",
      "CREATE IN_PROGRESS\n",
      "CREATE IN_PROGRESS\n",
      "CREATE IN_PROGRESS\n",
      "CREATE IN_PROGRESS\n",
      "CREATE IN_PROGRESS\n",
      "CREATE IN_PROGRESS\n",
      "CREATE IN_PROGRESS\n",
      "CREATE IN_PROGRESS\n",
      "CREATE IN_PROGRESS\n",
      "CREATE IN_PROGRESS\n",
      "CREATE IN_PROGRESS\n",
      "CREATE IN_PROGRESS\n",
      "CREATE IN_PROGRESS\n",
      "CREATE IN_PROGRESS\n",
      "CREATE IN_PROGRESS\n",
      "CREATE IN_PROGRESS\n",
      "CREATE IN_PROGRESS\n",
      "CREATE IN_PROGRESS\n",
      "CREATE IN_PROGRESS\n",
      "CREATE IN_PROGRESS\n",
      "CREATE IN_PROGRESS\n",
      "CREATE IN_PROGRESS\n",
      "CREATE IN_PROGRESS\n",
      "CREATE IN_PROGRESS\n",
      "CREATE IN_PROGRESS\n",
      "CREATE IN_PROGRESS\n",
      "CREATE IN_PROGRESS\n",
      "CREATE IN_PROGRESS\n",
      "CREATE IN_PROGRESS\n",
      "CREATE IN_PROGRESS\n",
      "CREATE IN_PROGRESS\n",
      "CREATE IN_PROGRESS\n",
      "CREATE IN_PROGRESS\n",
      "CREATE IN_PROGRESS\n",
      "CREATE IN_PROGRESS\n",
      "CREATE IN_PROGRESS\n",
      "CREATE IN_PROGRESS\n",
      "CREATE IN_PROGRESS\n",
      "CREATE IN_PROGRESS\n",
      "CREATE IN_PROGRESS\n",
      "CREATE IN_PROGRESS\n",
      "CREATE IN_PROGRESS\n",
      "CREATE IN_PROGRESS\n",
      "CREATE IN_PROGRESS\n",
      "CREATE IN_PROGRESS\n",
      "CREATE IN_PROGRESS\n",
      "CREATE IN_PROGRESS\n",
      "CREATE IN_PROGRESS\n",
      "CREATE IN_PROGRESS\n",
      "CREATE IN_PROGRESS\n",
      "CREATE IN_PROGRESS\n",
      "CREATE IN_PROGRESS\n",
      "CREATE IN_PROGRESS\n",
      "CREATE IN_PROGRESS\n",
      "CREATE IN_PROGRESS\n",
      "CREATE IN_PROGRESS\n",
      "CREATE IN_PROGRESS\n",
      "CREATE IN_PROGRESS\n",
      "CREATE IN_PROGRESS\n",
      "CREATE IN_PROGRESS\n",
      "CREATE IN_PROGRESS\n",
      "CREATE IN_PROGRESS\n",
      "CREATE IN_PROGRESS\n",
      "CREATE IN_PROGRESS\n",
      "CREATE IN_PROGRESS\n",
      "CREATE IN_PROGRESS\n",
      "CREATE IN_PROGRESS\n",
      "CREATE IN_PROGRESS\n",
      "CREATE IN_PROGRESS\n",
      "CREATE IN_PROGRESS\n",
      "CREATE IN_PROGRESS\n",
      "CREATE IN_PROGRESS\n",
      "CREATE IN_PROGRESS\n",
      "CREATE IN_PROGRESS\n",
      "CREATE IN_PROGRESS\n",
      "CREATE IN_PROGRESS\n",
      "CREATE IN_PROGRESS\n",
      "CREATE IN_PROGRESS\n",
      "CREATE IN_PROGRESS\n",
      "CREATE IN_PROGRESS\n",
      "CREATE IN_PROGRESS\n",
      "CREATE IN_PROGRESS\n",
      "CREATE IN_PROGRESS\n",
      "CREATE IN_PROGRESS\n",
      "CREATE IN_PROGRESS\n",
      "CREATE IN_PROGRESS\n",
      "CREATE IN_PROGRESS\n",
      "CREATE IN_PROGRESS\n",
      "CREATE IN_PROGRESS\n",
      "CREATE IN_PROGRESS\n",
      "CREATE IN_PROGRESS\n",
      "CREATE IN_PROGRESS\n",
      "CREATE IN_PROGRESS\n",
      "CREATE IN_PROGRESS\n",
      "CREATE IN_PROGRESS\n",
      "CREATE IN_PROGRESS\n",
      "CREATE IN_PROGRESS\n",
      "CREATE IN_PROGRESS\n",
      "CREATE IN_PROGRESS\n",
      "CREATE IN_PROGRESS\n",
      "CREATE IN_PROGRESS\n",
      "CREATE IN_PROGRESS\n",
      "CREATE IN_PROGRESS\n",
      "CREATE IN_PROGRESS\n",
      "CREATE IN_PROGRESS\n",
      "CREATE IN_PROGRESS\n",
      "CREATE IN_PROGRESS\n",
      "CREATE IN_PROGRESS\n",
      "CREATE IN_PROGRESS\n",
      "CREATE IN_PROGRESS\n",
      "CREATE IN_PROGRESS\n",
      "CREATE IN_PROGRESS\n",
      "CREATE IN_PROGRESS\n",
      "CREATE IN_PROGRESS\n",
      "CREATE IN_PROGRESS\n",
      "CREATE IN_PROGRESS\n",
      "CREATE IN_PROGRESS\n",
      "CREATE IN_PROGRESS\n",
      "CREATE IN_PROGRESS\n",
      "CREATE IN_PROGRESS\n",
      "CREATE IN_PROGRESS\n",
      "CREATE IN_PROGRESS\n",
      "CREATE IN_PROGRESS\n",
      "CREATE IN_PROGRESS\n",
      "CREATE IN_PROGRESS\n",
      "CREATE IN_PROGRESS\n",
      "CREATE IN_PROGRESS\n",
      "CREATE IN_PROGRESS\n",
      "CREATE IN_PROGRESS\n",
      "CREATE IN_PROGRESS\n",
      "CREATE IN_PROGRESS\n",
      "CREATE IN_PROGRESS\n",
      "CREATE IN_PROGRESS\n",
      "CREATE IN_PROGRESS\n",
      "CREATE IN_PROGRESS\n",
      "CREATE IN_PROGRESS\n",
      "CREATE IN_PROGRESS\n",
      "CREATE IN_PROGRESS\n",
      "CREATE IN_PROGRESS\n",
      "CREATE IN_PROGRESS\n",
      "CREATE IN_PROGRESS\n",
      "CREATE IN_PROGRESS\n",
      "CREATE IN_PROGRESS\n",
      "CREATE IN_PROGRESS\n",
      "CREATE IN_PROGRESS\n",
      "CREATE IN_PROGRESS\n",
      "CREATE IN_PROGRESS\n",
      "CREATE IN_PROGRESS\n",
      "CREATE IN_PROGRESS\n",
      "CREATE IN_PROGRESS\n",
      "CREATE IN_PROGRESS\n",
      "CREATE IN_PROGRESS\n",
      "CREATE IN_PROGRESS\n",
      "CREATE IN_PROGRESS\n",
      "CREATE IN_PROGRESS\n",
      "CREATE IN_PROGRESS\n",
      "CREATE IN_PROGRESS\n",
      "CREATE IN_PROGRESS\n",
      "CREATE IN_PROGRESS\n",
      "CREATE IN_PROGRESS\n",
      "CREATE IN_PROGRESS\n",
      "CREATE IN_PROGRESS\n",
      "CREATE IN_PROGRESS\n",
      "CREATE IN_PROGRESS\n",
      "ACTIVE\n",
      "Solution version arn:aws:personalize:us-east-1:903376376581:solution/adx-weather-product-personalization/f7a06b4f successfully completed\n",
      "CPU times: user 830 ms, sys: 111 ms, total: 941 ms\n",
      "Wall time: 38min 37s\n"
     ]
    }
   ],
   "source": [
    "%%time\n",
    "\n",
    "max_time = time.time() + 3*60*60 # 3 hours\n",
    "while time.time() < max_time:\n",
    "    soln_ver_response = personalize.describe_solution_version(\n",
    "        solutionVersionArn = recommend_solution_version_arn\n",
    "    )\n",
    "    status = soln_ver_response[\"solutionVersion\"][\"status\"]\n",
    "    time.sleep(10)\n",
    "    print(status)\n",
    "    if status == \"ACTIVE\":\n",
    "        print(f'Solution version {recommend_solution_version_arn} successfully completed')\n",
    "        break\n",
    "    elif status == \"CREATE FAILED\":\n",
    "        print(f'Solution version {soln_ver_arn} failed')\n",
    "        if soln_ver_response.get('failureReason'):\n",
    "            print('   Reason: ' + soln_ver_response['failureReason'])\n"
   ]
  },
  {
   "cell_type": "markdown",
   "metadata": {},
   "source": [
    "### Evaluate Offline Metrics for Solution Versions\n",
    "\n",
    "Amazon Personalize provides [offline metrics](https://docs.aws.amazon.com/personalize/latest/dg/working-with-training-metrics.html#working-with-training-metrics-metrics) that allow you to evaluate the performance of the solution version before you deploy the model in your application. Metrics can also be used to view the effects of modifying a Solution's hyperparameters or to compare the metrics between solutions that use the same training data but created with different recipes.\n",
    "\n",
    "Let's retrieve the metrics for the solution versions we just created."
   ]
  },
  {
   "cell_type": "markdown",
   "metadata": {},
   "source": [
    "#### Product Recommendations Metrics"
   ]
  },
  {
   "cell_type": "code",
   "execution_count": 42,
   "metadata": {},
   "outputs": [
    {
     "name": "stdout",
     "output_type": "stream",
     "text": [
      "{\n",
      "  \"solutionVersionArn\": \"arn:aws:personalize:us-east-1:903376376581:solution/adx-weather-product-personalization/f7a06b4f\",\n",
      "  \"metrics\": {\n",
      "    \"coverage\": 0.9825,\n",
      "    \"mean_reciprocal_rank_at_25\": 0.8703,\n",
      "    \"normalized_discounted_cumulative_gain_at_10\": 0.7174,\n",
      "    \"normalized_discounted_cumulative_gain_at_25\": 0.8607,\n",
      "    \"normalized_discounted_cumulative_gain_at_5\": 0.7432,\n",
      "    \"precision_at_10\": 0.652,\n",
      "    \"precision_at_25\": 0.4159,\n",
      "    \"precision_at_5\": 0.7331\n",
      "  },\n",
      "  \"ResponseMetadata\": {\n",
      "    \"RequestId\": \"97c3c90b-e0af-48cf-89c1-d7170fd803e8\",\n",
      "    \"HTTPStatusCode\": 200,\n",
      "    \"HTTPHeaders\": {\n",
      "      \"content-type\": \"application/x-amz-json-1.1\",\n",
      "      \"date\": \"Mon, 20 Sep 2021 20:32:41 GMT\",\n",
      "      \"x-amzn-requestid\": \"97c3c90b-e0af-48cf-89c1-d7170fd803e8\",\n",
      "      \"content-length\": \"418\",\n",
      "      \"connection\": \"keep-alive\"\n",
      "    },\n",
      "    \"RetryAttempts\": 0\n",
      "  }\n",
      "}\n"
     ]
    }
   ],
   "source": [
    "get_solution_metrics_response = personalize.get_solution_metrics(\n",
    "    solutionVersionArn = recommend_solution_version_arn\n",
    ")\n",
    "\n",
    "print(json.dumps(get_solution_metrics_response, indent=2))"
   ]
  },
  {
   "cell_type": "markdown",
   "metadata": {},
   "source": [
    "## Create Campaigns\n",
    "\n",
    "Once we're satisfied with our solution versions, we need to create Campaigns for each solution version. When creating a campaign you specify the minimum transactions per second (`minProvisionedTPS`) that you expect to make against the service for this campaign. Personalize will automatically scale the inference endpoint up and down for the campaign to match demand but will never scale below `minProvisionedTPS`.\n",
    "\n",
    "Let's create campaigns for our three solution versions with each set at `minProvisionedTPS` of 1."
   ]
  },
  {
   "cell_type": "markdown",
   "metadata": {},
   "source": [
    "#### Create Product Recommendation Campaign"
   ]
  },
  {
   "cell_type": "code",
   "execution_count": 43,
   "metadata": {},
   "outputs": [
    {
     "name": "stdout",
     "output_type": "stream",
     "text": [
      "{\n",
      "  \"campaignArn\": \"arn:aws:personalize:us-east-1:903376376581:campaign/adx-weather-product-personalization\",\n",
      "  \"ResponseMetadata\": {\n",
      "    \"RequestId\": \"f68d6550-2019-4b7e-a592-340a9ec8f9b4\",\n",
      "    \"HTTPStatusCode\": 200,\n",
      "    \"HTTPHeaders\": {\n",
      "      \"content-type\": \"application/x-amz-json-1.1\",\n",
      "      \"date\": \"Mon, 20 Sep 2021 20:32:53 GMT\",\n",
      "      \"x-amzn-requestid\": \"f68d6550-2019-4b7e-a592-340a9ec8f9b4\",\n",
      "      \"content-length\": \"105\",\n",
      "      \"connection\": \"keep-alive\"\n",
      "    },\n",
      "    \"RetryAttempts\": 0\n",
      "  }\n",
      "}\n"
     ]
    }
   ],
   "source": [
    "create_campaign_response = personalize.create_campaign(\n",
    "    name = \"adx-weather-product-personalization\",\n",
    "    solutionVersionArn = recommend_solution_version_arn,\n",
    "    minProvisionedTPS = 1\n",
    ")\n",
    "\n",
    "recommend_campaign_arn = create_campaign_response['campaignArn']\n",
    "print(json.dumps(create_campaign_response, indent=2))"
   ]
  },
  {
   "cell_type": "markdown",
   "metadata": {},
   "source": [
    "#### Wait for Related Products Campaign to Have ACTIVE Status\n",
    "\n",
    "It can take 20-30 minutes for the campaigns to be fully created. \n",
    "\n",
    "While you are waiting for this to complete you can learn more about campaigns here: https://docs.aws.amazon.com/personalize/latest/dg/campaigns.html"
   ]
  },
  {
   "cell_type": "code",
   "execution_count": 44,
   "metadata": {},
   "outputs": [
    {
     "name": "stdout",
     "output_type": "stream",
     "text": [
      "CREATE PENDING\n",
      "CREATE PENDING\n",
      "CREATE IN_PROGRESS\n",
      "CREATE IN_PROGRESS\n",
      "CREATE IN_PROGRESS\n",
      "CREATE IN_PROGRESS\n",
      "CREATE IN_PROGRESS\n",
      "CREATE IN_PROGRESS\n",
      "CREATE IN_PROGRESS\n",
      "CREATE IN_PROGRESS\n",
      "CREATE IN_PROGRESS\n",
      "CREATE IN_PROGRESS\n",
      "CREATE IN_PROGRESS\n",
      "CREATE IN_PROGRESS\n",
      "CREATE IN_PROGRESS\n",
      "CREATE IN_PROGRESS\n",
      "CREATE IN_PROGRESS\n",
      "CREATE IN_PROGRESS\n",
      "CREATE IN_PROGRESS\n",
      "CREATE IN_PROGRESS\n",
      "CREATE IN_PROGRESS\n",
      "CREATE IN_PROGRESS\n",
      "CREATE IN_PROGRESS\n",
      "CREATE IN_PROGRESS\n",
      "CREATE IN_PROGRESS\n",
      "CREATE IN_PROGRESS\n",
      "CREATE IN_PROGRESS\n",
      "CREATE IN_PROGRESS\n",
      "CREATE IN_PROGRESS\n",
      "CREATE IN_PROGRESS\n",
      "CREATE IN_PROGRESS\n",
      "CREATE IN_PROGRESS\n",
      "CREATE IN_PROGRESS\n",
      "CREATE IN_PROGRESS\n",
      "CREATE IN_PROGRESS\n",
      "CREATE IN_PROGRESS\n",
      "CREATE IN_PROGRESS\n",
      "CREATE IN_PROGRESS\n",
      "CREATE IN_PROGRESS\n",
      "CREATE IN_PROGRESS\n",
      "CREATE IN_PROGRESS\n",
      "CREATE IN_PROGRESS\n",
      "CREATE IN_PROGRESS\n",
      "CREATE IN_PROGRESS\n",
      "CREATE IN_PROGRESS\n",
      "CREATE IN_PROGRESS\n",
      "CREATE IN_PROGRESS\n",
      "CREATE IN_PROGRESS\n",
      "CREATE IN_PROGRESS\n",
      "CREATE IN_PROGRESS\n",
      "CREATE IN_PROGRESS\n",
      "CREATE IN_PROGRESS\n",
      "CREATE IN_PROGRESS\n",
      "CREATE IN_PROGRESS\n",
      "ACTIVE\n",
      "Campaign arn:aws:personalize:us-east-1:903376376581:campaign/adx-weather-product-personalization successfully completed\n",
      "CPU times: user 201 ms, sys: 23.4 ms, total: 224 ms\n",
      "Wall time: 9min 11s\n"
     ]
    }
   ],
   "source": [
    "%%time\n",
    "max_time = time.time() + 3*60*60 # 3 hours\n",
    "while time.time() < max_time:\n",
    "    campaign_response = personalize.describe_campaign(\n",
    "        campaignArn = recommend_campaign_arn\n",
    "    )\n",
    "    status = campaign_response[\"campaign\"][\"status\"]\n",
    "    time.sleep(10)\n",
    "    print(status)\n",
    "\n",
    "    if status == \"ACTIVE\":\n",
    "        print(f'Campaign {recommend_campaign_arn} successfully completed')\n",
    "        break\n",
    "    elif status == \"CREATE FAILED\":\n",
    "        print(f'Campaign {campaign_arn} failed')\n",
    "        if campaign_response.get('failureReason'):\n",
    "            print('   Reason: ' + campaign_response['failureReason'])"
   ]
  },
  {
   "cell_type": "markdown",
   "metadata": {},
   "source": [
    "## Test Campaigns\n",
    "\n",
    "Now that our campaigns have been fully created, let's test each campaign and evaluate the results."
   ]
  },
  {
   "cell_type": "markdown",
   "metadata": {},
   "source": [
    "### Test Product Recommendations Campaign\n",
    "\n",
    "Let's test the recommendations made by the product recommendations campaign by selecting a user from the users dataset and requesting item recommendations for that user."
   ]
  },
  {
   "cell_type": "markdown",
   "metadata": {},
   "source": [
    "#### Select a User\n",
    "\n",
    "We'll just pick a random user for simplicity. Feel free to change the `user_id` below and execute the following cells with a different user to get a sense for how the recommendations change."
   ]
  },
  {
   "cell_type": "code",
   "execution_count": 45,
   "metadata": {},
   "outputs": [
    {
     "data": {
      "text/html": [
       "<div>\n",
       "<style scoped>\n",
       "    .dataframe tbody tr th:only-of-type {\n",
       "        vertical-align: middle;\n",
       "    }\n",
       "\n",
       "    .dataframe tbody tr th {\n",
       "        vertical-align: top;\n",
       "    }\n",
       "\n",
       "    .dataframe thead th {\n",
       "        text-align: right;\n",
       "    }\n",
       "</style>\n",
       "<table border=\"1\" class=\"dataframe\">\n",
       "  <thead>\n",
       "    <tr style=\"text-align: right;\">\n",
       "      <th></th>\n",
       "      <th>id</th>\n",
       "      <th>username</th>\n",
       "      <th>email</th>\n",
       "      <th>first_name</th>\n",
       "      <th>last_name</th>\n",
       "      <th>addresses</th>\n",
       "      <th>age</th>\n",
       "      <th>gender</th>\n",
       "      <th>persona</th>\n",
       "    </tr>\n",
       "  </thead>\n",
       "  <tbody>\n",
       "    <tr>\n",
       "      <th>1995</th>\n",
       "      <td>170</td>\n",
       "      <td>user170</td>\n",
       "      <td>clifford.mueller@example.com</td>\n",
       "      <td>Clifford</td>\n",
       "      <td>Mueller</td>\n",
       "      <td>[{'first_name': 'Clifford', 'last_name': 'Muel...</td>\n",
       "      <td>30</td>\n",
       "      <td>M</td>\n",
       "      <td>other_waters_sparkling</td>\n",
       "    </tr>\n",
       "  </tbody>\n",
       "</table>\n",
       "</div>"
      ],
      "text/plain": [
       "       id username                         email first_name last_name  \\\n",
       "1995  170  user170  clifford.mueller@example.com   Clifford   Mueller   \n",
       "\n",
       "                                              addresses  age gender  \\\n",
       "1995  [{'first_name': 'Clifford', 'last_name': 'Muel...   30      M   \n",
       "\n",
       "                     persona  \n",
       "1995  other_waters_sparkling  "
      ]
     },
     "execution_count": 45,
     "metadata": {},
     "output_type": "execute_result"
    }
   ],
   "source": [
    "# User with interactions 170\n",
    "# Cold start user 7000\n",
    "user_id = 170\n",
    "users_df.loc[users_df['id'] == user_id]"
   ]
  },
  {
   "cell_type": "markdown",
   "metadata": {},
   "source": [
    "**Take note of the `persona` value for the user above. We should see recommendations for products consistent with this persona since we generated historical interactions for products in the categories represented in the persona.**"
   ]
  },
  {
   "cell_type": "markdown",
   "metadata": {},
   "source": [
    "#### Get Product Recommendations for User\n",
    "\n",
    "Now let's call Amazon Personalize to get recommendations for our user from the product recommendations campaign."
   ]
  },
  {
   "cell_type": "code",
   "execution_count": 52,
   "metadata": {},
   "outputs": [
    {
     "name": "stdout",
     "output_type": "stream",
     "text": [
      "[\n",
      "    {\n",
      "        \"itemId\": \"4\",\n",
      "        \"score\": 0.0610027\n",
      "    },\n",
      "    {\n",
      "        \"itemId\": \"12\",\n",
      "        \"score\": 0.0608411\n",
      "    },\n",
      "    {\n",
      "        \"itemId\": \"54\",\n",
      "        \"score\": 0.0558495\n",
      "    },\n",
      "    {\n",
      "        \"itemId\": \"40\",\n",
      "        \"score\": 0.0487231\n",
      "    },\n",
      "    {\n",
      "        \"itemId\": \"28\",\n",
      "        \"score\": 0.0450286\n",
      "    }\n",
      "]\n"
     ]
    },
    {
     "data": {
      "text/html": [
       "<div>\n",
       "<style scoped>\n",
       "    .dataframe tbody tr th:only-of-type {\n",
       "        vertical-align: middle;\n",
       "    }\n",
       "\n",
       "    .dataframe tbody tr th {\n",
       "        vertical-align: top;\n",
       "    }\n",
       "\n",
       "    .dataframe thead th {\n",
       "        text-align: right;\n",
       "    }\n",
       "</style>\n",
       "<table border=\"1\" class=\"dataframe\">\n",
       "  <thead>\n",
       "    <tr style=\"text-align: right;\">\n",
       "      <th></th>\n",
       "      <th>ITEM_ID</th>\n",
       "      <th>CATEGORY</th>\n",
       "      <th>TYPE</th>\n",
       "      <th>SIZE</th>\n",
       "    </tr>\n",
       "  </thead>\n",
       "  <tbody>\n",
       "    <tr>\n",
       "      <th>0</th>\n",
       "      <td>4</td>\n",
       "      <td>waters</td>\n",
       "      <td>sparkling</td>\n",
       "      <td>6x1500</td>\n",
       "    </tr>\n",
       "    <tr>\n",
       "      <th>1</th>\n",
       "      <td>12</td>\n",
       "      <td>waters</td>\n",
       "      <td>normal</td>\n",
       "      <td>6x1500</td>\n",
       "    </tr>\n",
       "    <tr>\n",
       "      <th>2</th>\n",
       "      <td>54</td>\n",
       "      <td>waters</td>\n",
       "      <td>flavored</td>\n",
       "      <td>4x500</td>\n",
       "    </tr>\n",
       "    <tr>\n",
       "      <th>3</th>\n",
       "      <td>40</td>\n",
       "      <td>waters</td>\n",
       "      <td>normal</td>\n",
       "      <td>6x1600</td>\n",
       "    </tr>\n",
       "    <tr>\n",
       "      <th>4</th>\n",
       "      <td>28</td>\n",
       "      <td>waters</td>\n",
       "      <td>sparkling</td>\n",
       "      <td>6x1600</td>\n",
       "    </tr>\n",
       "  </tbody>\n",
       "</table>\n",
       "</div>"
      ],
      "text/plain": [
       "   ITEM_ID CATEGORY       TYPE    SIZE\n",
       "0        4   waters  sparkling  6x1500\n",
       "1       12   waters     normal  6x1500\n",
       "2       54   waters   flavored   4x500\n",
       "3       40   waters     normal  6x1600\n",
       "4       28   waters  sparkling  6x1600"
      ]
     },
     "execution_count": 52,
     "metadata": {},
     "output_type": "execute_result"
    }
   ],
   "source": [
    "get_recommendations_response = personalize_runtime.get_recommendations(\n",
    "    campaignArn = recommend_campaign_arn,\n",
    "    userId = str(user_id),\n",
    "    numResults = 5)\n",
    "\n",
    "item_list = get_recommendations_response['itemList']\n",
    "print(json.dumps(item_list, indent=4))\n",
    "search_items_in_dataframe(item_list)"
   ]
  },
  {
   "cell_type": "markdown",
   "metadata": {},
   "source": [
    "Are the recommended products consistent with the persona? Note that this is a rather contrived example using a limited amount of generated interaction data without model parameter tuning. The purpose is to give you hands on experience building models and retrieving inferences from Amazon Personalize. "
   ]
  },
  {
   "cell_type": "markdown",
   "metadata": {},
   "source": [
    "## Contextual recomendations\n",
    "\n",
    "Now lets explore the possibility of passing contextual information to the recomendation call. Context can be any attribute included in the Interactions dataset used to train the solution. in our case we included the average temperature of each day in Atlanta extracted from WeatherTrends360 dataset:https://aws.amazon.com/marketplace/pp/prodview-wbuuretid73x4?sr=0-3&ref_=beagle&applicationId=AWSMPContessa#offers.\n",
    "\n",
    "If you want to try your own solutions feel free to explore other dataset on the AWS Marketplace.  \n",
    "\n",
    "Other useful contextual informacion can be the device or trade channel used to interact and other similar metadata alike. More information: https://aws.amazon.com/blogs/machine-learning/increasing-the-relevance-of-your-amazon-personalize-recommendations-by-leveraging-contextual-information/\n",
    "\n",
    "Lets select a user and test the recomendations for the included temperature ranges.\n"
   ]
  },
  {
   "cell_type": "code",
   "execution_count": 51,
   "metadata": {},
   "outputs": [
    {
     "data": {
      "text/html": [
       "<div>\n",
       "<style scoped>\n",
       "    .dataframe tbody tr th:only-of-type {\n",
       "        vertical-align: middle;\n",
       "    }\n",
       "\n",
       "    .dataframe tbody tr th {\n",
       "        vertical-align: top;\n",
       "    }\n",
       "\n",
       "    .dataframe thead th {\n",
       "        text-align: right;\n",
       "    }\n",
       "</style>\n",
       "<table border=\"1\" class=\"dataframe\">\n",
       "  <thead>\n",
       "    <tr style=\"text-align: right;\">\n",
       "      <th></th>\n",
       "      <th>USER_ID</th>\n",
       "      <th>PERSONA</th>\n",
       "    </tr>\n",
       "  </thead>\n",
       "  <tbody>\n",
       "  </tbody>\n",
       "</table>\n",
       "</div>"
      ],
      "text/plain": [
       "Empty DataFrame\n",
       "Columns: [USER_ID, PERSONA]\n",
       "Index: []"
      ]
     },
     "execution_count": 51,
     "metadata": {},
     "output_type": "execute_result"
    }
   ],
   "source": [
    "user_id = 10000\n",
    "users_dataset_df.loc[users_dataset_df['USER_ID'] == user_id]\n"
   ]
  },
  {
   "cell_type": "code",
   "execution_count": 61,
   "metadata": {},
   "outputs": [
    {
     "name": "stdout",
     "output_type": "stream",
     "text": [
      "[\n",
      "    {\n",
      "        \"itemId\": \"4\",\n",
      "        \"score\": 0.0749273\n",
      "    },\n",
      "    {\n",
      "        \"itemId\": \"54\",\n",
      "        \"score\": 0.0683786\n",
      "    },\n",
      "    {\n",
      "        \"itemId\": \"12\",\n",
      "        \"score\": 0.0577067\n",
      "    },\n",
      "    {\n",
      "        \"itemId\": \"28\",\n",
      "        \"score\": 0.0558818\n",
      "    },\n",
      "    {\n",
      "        \"itemId\": \"20\",\n",
      "        \"score\": 0.0487305\n",
      "    }\n",
      "]\n"
     ]
    },
    {
     "data": {
      "text/html": [
       "<div>\n",
       "<style scoped>\n",
       "    .dataframe tbody tr th:only-of-type {\n",
       "        vertical-align: middle;\n",
       "    }\n",
       "\n",
       "    .dataframe tbody tr th {\n",
       "        vertical-align: top;\n",
       "    }\n",
       "\n",
       "    .dataframe thead th {\n",
       "        text-align: right;\n",
       "    }\n",
       "</style>\n",
       "<table border=\"1\" class=\"dataframe\">\n",
       "  <thead>\n",
       "    <tr style=\"text-align: right;\">\n",
       "      <th></th>\n",
       "      <th>ITEM_ID</th>\n",
       "      <th>CATEGORY</th>\n",
       "      <th>TYPE</th>\n",
       "      <th>SIZE</th>\n",
       "    </tr>\n",
       "  </thead>\n",
       "  <tbody>\n",
       "    <tr>\n",
       "      <th>0</th>\n",
       "      <td>4</td>\n",
       "      <td>waters</td>\n",
       "      <td>sparkling</td>\n",
       "      <td>6x1500</td>\n",
       "    </tr>\n",
       "    <tr>\n",
       "      <th>1</th>\n",
       "      <td>54</td>\n",
       "      <td>waters</td>\n",
       "      <td>flavored</td>\n",
       "      <td>4x500</td>\n",
       "    </tr>\n",
       "    <tr>\n",
       "      <th>2</th>\n",
       "      <td>12</td>\n",
       "      <td>waters</td>\n",
       "      <td>normal</td>\n",
       "      <td>6x1500</td>\n",
       "    </tr>\n",
       "    <tr>\n",
       "      <th>3</th>\n",
       "      <td>28</td>\n",
       "      <td>waters</td>\n",
       "      <td>sparkling</td>\n",
       "      <td>6x1600</td>\n",
       "    </tr>\n",
       "    <tr>\n",
       "      <th>4</th>\n",
       "      <td>20</td>\n",
       "      <td>waters</td>\n",
       "      <td>flavored</td>\n",
       "      <td>6x1500</td>\n",
       "    </tr>\n",
       "  </tbody>\n",
       "</table>\n",
       "</div>"
      ],
      "text/plain": [
       "   ITEM_ID CATEGORY       TYPE    SIZE\n",
       "0        4   waters  sparkling  6x1500\n",
       "1       54   waters   flavored   4x500\n",
       "2       12   waters     normal  6x1500\n",
       "3       28   waters  sparkling  6x1600\n",
       "4       20   waters   flavored  6x1500"
      ]
     },
     "execution_count": 61,
     "metadata": {},
     "output_type": "execute_result"
    }
   ],
   "source": [
    "# DAILY TEMPERATURE = ['hot', 'very hot', 'lukewarm', 'slightly cold', 'cold', 'very cold']\n",
    "\n",
    "get_recommendations_response = personalize_runtime.get_recommendations(\n",
    "    campaignArn = recommend_campaign_arn,\n",
    "    userId = str(user_id),\n",
    "    numResults = 5,\n",
    "    context = {\n",
    "      'DAILY_TEMPERATURE': 'slightly cold'\n",
    "    })\n",
    "\n",
    "item_list = get_recommendations_response['itemList']\n",
    "print(json.dumps(item_list, indent=4))\n",
    "search_items_in_dataframe(item_list)"
   ]
  },
  {
   "cell_type": "markdown",
   "metadata": {},
   "source": [
    "The items recommended are different from the previous calls? Try different users, values and amount of items recommended to get a grasp of the behavior. "
   ]
  },
  {
   "cell_type": "markdown",
   "metadata": {},
   "source": [
    "## Workshop Complete\n",
    "\n",
    "Congratulations! You have completed the contextual Weather Personalization Workshop.\n",
    "\n",
    "### Cleanup\n",
    "\n",
    "You MUST run the cleanup notebook or manually clean up these resources. If using the notebook, save the names of the elements to be cleaned:"
   ]
  },
  {
   "cell_type": "code",
   "execution_count": null,
   "metadata": {},
   "outputs": [],
   "source": [
    "%store dataset_group_arn\n",
    "%store items_dataset_arn\n",
    "%store users_dataset_arn\n",
    "%store interactions_dataset_arn\n",
    "%store role_arn\n",
    "%store users_dataset_import_job_arn\n",
    "%store interactions_dataset_import_job_arn\n",
    "%store items_dataset_import_job_arn\n",
    "%store recommend_campaign_arn"
   ]
  },
  {
   "cell_type": "code",
   "execution_count": null,
   "metadata": {},
   "outputs": [],
   "source": []
  }
 ],
 "metadata": {
  "kernelspec": {
   "display_name": "conda_amazonei_mxnet_p36",
   "language": "python",
   "name": "conda_amazonei_mxnet_p36"
  },
  "language_info": {
   "codemirror_mode": {
    "name": "ipython",
    "version": 3
   },
   "file_extension": ".py",
   "mimetype": "text/x-python",
   "name": "python",
   "nbconvert_exporter": "python",
   "pygments_lexer": "ipython3",
   "version": "3.6.13"
  }
 },
 "nbformat": 4,
 "nbformat_minor": 4
}
